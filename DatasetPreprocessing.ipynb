{
  "nbformat": 4,
  "nbformat_minor": 0,
  "metadata": {
    "colab": {
      "name": "DatasetPreprocessing.ipynb",
      "provenance": [],
      "collapsed_sections": [],
      "toc_visible": true,
      "authorship_tag": "ABX9TyOSiDnz5BPvQ4STJbLcuhIm",
      "include_colab_link": true
    },
    "kernelspec": {
      "name": "python3",
      "display_name": "Python 3"
    }
  },
  "cells": [
    {
      "cell_type": "markdown",
      "metadata": {
        "id": "view-in-github",
        "colab_type": "text"
      },
      "source": [
        "<a href=\"https://colab.research.google.com/github/Xavi990/ML_hotel_bookings/blob/master/DatasetPreprocessing.ipynb\" target=\"_parent\"><img src=\"https://colab.research.google.com/assets/colab-badge.svg\" alt=\"Open In Colab\"/></a>"
      ]
    },
    {
      "cell_type": "markdown",
      "metadata": {
        "id": "8adpUB8PNWqG",
        "colab_type": "text"
      },
      "source": [
        "**Notebook para preprocesar el dataset. Se realizan todas las transformaciones necesarias**"
      ]
    },
    {
      "cell_type": "code",
      "metadata": {
        "id": "wP23MeubnCo6",
        "colab_type": "code",
        "colab": {
          "resources": {
            "http://localhost:8080/nbextensions/google.colab/files.js": {
              "data": "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",
              "ok": true,
              "headers": [
                [
                  "content-type",
                  "application/javascript"
                ]
              ],
              "status": 200,
              "status_text": ""
            }
          },
          "base_uri": "https://localhost:8080/",
          "height": 74
        },
        "outputId": "10c21501-ad55-4c7c-fe60-5cf344d4e5c4"
      },
      "source": [
        "# Se cargan los archivos dataset originales\n",
        "\n",
        "from google.colab import files\n",
        "uploaded=files.upload()"
      ],
      "execution_count": 2,
      "outputs": [
        {
          "output_type": "display_data",
          "data": {
            "text/html": [
              "\n",
              "     <input type=\"file\" id=\"files-b2444ca8-9db1-49ba-87ca-91df2e094ade\" name=\"files[]\" multiple disabled />\n",
              "     <output id=\"result-b2444ca8-9db1-49ba-87ca-91df2e094ade\">\n",
              "      Upload widget is only available when the cell has been executed in the\n",
              "      current browser session. Please rerun this cell to enable.\n",
              "      </output>\n",
              "      <script src=\"/nbextensions/google.colab/files.js\"></script> "
            ],
            "text/plain": [
              "<IPython.core.display.HTML object>"
            ]
          },
          "metadata": {
            "tags": []
          }
        },
        {
          "output_type": "stream",
          "text": [
            "Saving hotel_bookings.csv to hotel_bookings.csv\n"
          ],
          "name": "stdout"
        }
      ]
    },
    {
      "cell_type": "code",
      "metadata": {
        "id": "eCt5R0iHjcY0",
        "colab_type": "code",
        "colab": {}
      },
      "source": [
        "# Rutas de los archivos \n",
        "local_base_path = \"\"\n",
        "original_dataset_url = local_base_path + \"hotel_bookings.csv\"\n",
        "countries_dataset_url = local_base_path + \"country-and-continent-codes-list.csv\"\n",
        "\n",
        "preprocessed_dataset_url_con_dup = local_base_path + \"hotel_bookings_preprocessed_dup.csv\"\n",
        "preprocessed_dataset_url_sin_dup = local_base_path + \"hotel_bookings_preprocessed_nodup.csv\"\n",
        "\n",
        "# Librerias necesarias\n",
        "import pandas\n",
        "import datetime"
      ],
      "execution_count": 0,
      "outputs": []
    },
    {
      "cell_type": "code",
      "metadata": {
        "id": "TGgc2Ym8pKYm",
        "colab_type": "code",
        "colab": {}
      },
      "source": [
        "# Funcion que facilita la conversion de variables dummies dentro de un dataframe\n",
        "\n",
        "def addDummiesInDataFrame(df_aux, attribute, namePrefix):\n",
        "    dummy_attribute = pandas.get_dummies(df_aux[attribute].apply(lambda x: namePrefix + str(x)))\n",
        "    df_aux = df_aux.merge(dummy_attribute, left_index=True, right_index=True)\n",
        "    df_aux.drop([attribute], axis=1, inplace=True)\n",
        "    return df_aux"
      ],
      "execution_count": 0,
      "outputs": []
    },
    {
      "cell_type": "markdown",
      "metadata": {
        "id": "SBmSBZLHq4ky",
        "colab_type": "text"
      },
      "source": [
        "**Funciones para el manejo de valores fecha**\n",
        "\n"
      ]
    },
    {
      "cell_type": "code",
      "metadata": {
        "id": "JvcjeOcCq3aN",
        "colab_type": "code",
        "colab": {}
      },
      "source": [
        "# Calculos con fechas y conversion de variables\n",
        "def mapDateAttributes(df):\n",
        "    # Se crea una nueva columna con la fecha arrival_date en datetime\n",
        "    df['arrival_date'] = df.apply(get_date, axis = 1)\n",
        "\n",
        "    # Se quitan del dataset las columnas arrival date que vienen particionadas\n",
        "    df.drop(['arrival_date_year', 'arrival_date_month', 'arrival_date_day_of_month', 'arrival_date_week_number'], axis=1, inplace=True)\n",
        "\n",
        "    # Se calcula la cantidad de dias en la que se produce el cancelamiento respecto a la fecha esperada de arrival\n",
        "    #df['cancel_days_before_arrival'] = df.apply(calcula_dias_anticipo_cancelamiento, axis=1)\n",
        "\n",
        "    # Se crean columnas dummies para los meses de arrival_date\n",
        "    # Estas pueden servir para establecer temporadas de tendencias, como ser el pais de origen, los\n",
        "    df['arrival_month'] = df['arrival_date'].apply(lambda x: str(x.month))\n",
        "    df = addDummiesInDataFrame(df, 'arrival_month', 'arrival_month_')\n",
        "\n",
        "    # eliminar la variables reservation_status_date\n",
        "    df.drop(['arrival_date', 'reservation_status_date'], axis=1, inplace=True)\n",
        "\n",
        "    return df\n",
        "\n",
        "# Funcion que toma el mes en nombre y devuelve el numero de mes calendario entre 1 y 12\n",
        "def get_month_num(month_name):\n",
        "    month_dicc = \\\n",
        "        {'January': 1,\n",
        "        'February': 2,\n",
        "        'March': 3,\n",
        "        'April': 4,\n",
        "        'May': 5,\n",
        "        'June': 6,\n",
        "        'July': 7,\n",
        "        'August': 8,\n",
        "        'September': 9,\n",
        "        'October': 10,\n",
        "        'November': 11,\n",
        "        'December': 12}\n",
        "    return month_dicc[month_name]\n",
        "\n",
        "# Funcion que toma la tres componentes de la fecha segun dataset en uso y devuelve la fecha en datetime.\n",
        "def get_date(df):\n",
        "    return datetime.datetime( \\\n",
        "        int(df['arrival_date_year']),\n",
        "        int(get_month_num(df['arrival_date_month'])), \\\n",
        "        int(df['arrival_date_day_of_month']))\n",
        "\n",
        "def calcula_dias_anticipo_cancelamiento(df):\n",
        "    # TODO revisar si este campo\n",
        "    if df['is_canceled'] == 1:\n",
        "        return (df['arrival_date'] - df['reservation_status_date']).days\n",
        "    else:\n",
        "        return 0"
      ],
      "execution_count": 0,
      "outputs": []
    },
    {
      "cell_type": "markdown",
      "metadata": {
        "id": "DO5U-dg3ran0",
        "colab_type": "text"
      },
      "source": [
        "**Funciones para manejo de valores de paises**"
      ]
    },
    {
      "cell_type": "code",
      "metadata": {
        "id": "cWFAgBlOriz5",
        "colab_type": "code",
        "colab": {}
      },
      "source": [
        "# Lee dataset de definiciones de paises\n",
        "def getCountries(countries_dataset_url):\n",
        "    countries_df = pandas.read_csv(countries_dataset_url)\n",
        "    return countries_df\n",
        "\n",
        "# Merge de paises con dataset booking. Luego variables dummies por continente\n",
        "def mapCountryAtributes(countries_dataset_url, df):\n",
        "    # Levanta el dataset de definicion de countries y lo agrega al df booking de acuerdo al country code.\n",
        "    countryDF = getCountries(countries_dataset_url)\n",
        "    df = df.merge(countryDF, how='left', left_on='country', right_on='Three_Letter_Country_Code', suffixes=(False, False))\n",
        "\n",
        "    # se reemplazan los valores nulos por la moda 'Europe'\n",
        "    continente_moda = df['Continent_Name'].mode()\n",
        "    df['Continent_Name'].fillna(continente_moda[0], inplace=True)\n",
        "    \n",
        "    # Convierte la variables countries en dummies\n",
        "    df = addDummiesInDataFrame(df, 'Continent_Name', 'continent_')\n",
        "\n",
        "    df.drop(['Continent_Code', 'Country_Name', 'Two_Letter_Country_Code', 'Three_Letter_Country_Code', 'Country_Number'], axis=1, inplace=True)\n",
        "\n",
        "    # Se elimina la columna country\n",
        "    df.drop(['country'], axis=1, inplace=True)\n",
        "\n",
        "    return df"
      ],
      "execution_count": 0,
      "outputs": []
    },
    {
      "cell_type": "code",
      "metadata": {
        "id": "z1MFZNdepSde",
        "colab_type": "code",
        "colab": {}
      },
      "source": [
        "# Funcion que levanta los dataset y preprocesa\n",
        "\n",
        "def LoadAndPreprocessDataFrame(original_dataset_url, countries_dataset_url):\n",
        "    # Carga del dataset original\n",
        "    booking_dataset = pandas.read_csv(original_dataset_url, parse_dates=['reservation_status_date'])\n",
        "\n",
        "    # Se ajustan las variables fecha del dataset\n",
        "    booking_dataset = mapDateAttributes(booking_dataset)\n",
        "\n",
        "    # Se ajustan los atributos country\n",
        "    booking_dataset = mapCountryAtributes(countries_dataset_url, booking_dataset)\n",
        "\n",
        "    # Se convierte en variable binaria el atributo agent\n",
        "    booking_dataset['agent'].fillna(0, inplace=True)\n",
        "    booking_dataset['agent_b'] = booking_dataset['agent'].apply(lambda x: 1 if x > 0 else 0)\n",
        "    booking_dataset.drop(['agent'], axis=1, inplace=True)\n",
        "\n",
        "    # Se convierte en variable binaria el atributo company\n",
        "    booking_dataset['company'].fillna(0, inplace=True)\n",
        "    booking_dataset['company_b'] = booking_dataset['company'].apply(lambda x: 1 if x > 0 else 0)\n",
        "    booking_dataset.drop(['company'], axis=1, inplace=True)\n",
        "    \n",
        "     ## Manejo de valores faltantes \n",
        "    \n",
        "    # variable children 4 registros null\n",
        "    # lo reemplazamos por cero\n",
        "    booking_dataset['children'].fillna(0, inplace=True)\n",
        "    \n",
        "    # variables con valores undefined\n",
        "    # variable meal, reemplazo por la moda\n",
        "    meal_moda= booking_dataset.meal.mode()\n",
        "    booking_dataset['meal'] = booking_dataset['meal'].apply(lambda x: meal_moda[0] if x ==\"Undefined\" else x)\n",
        " \n",
        "    #variable market segment, reemplazo con la moda\n",
        "    market_segment_moda= booking_dataset.market_segment.mode()\n",
        "    booking_dataset['market_segment'] = booking_dataset['market_segment'].apply(lambda x: market_segment_moda[0] if x ==\"Undefined\" else x)\n",
        "\n",
        "    #variable ditribution_channel, reemplazo con la moda\n",
        "    ditribution_channel_moda= booking_dataset.distribution_channel.mode()\n",
        "    booking_dataset['distribution_channel'] = booking_dataset['distribution_channel'].apply(lambda x: ditribution_channel_moda[0] if x ==\"Undefined\" else x)\n",
        "    \n",
        "    ## fin valores faltantes\n",
        "    \n",
        "    # Se convierte a variables dummies\n",
        "    booking_dataset = addDummiesInDataFrame(booking_dataset, 'meal', 'meal_')\n",
        "    booking_dataset = addDummiesInDataFrame(booking_dataset, 'market_segment', 'market_seg_')\n",
        "    booking_dataset = addDummiesInDataFrame(booking_dataset, 'distribution_channel', 'dist_channel_')\n",
        "    booking_dataset = addDummiesInDataFrame(booking_dataset, 'deposit_type', 'deposit_')\n",
        "    booking_dataset = addDummiesInDataFrame(booking_dataset, 'customer_type', 'cust_type_')\n",
        "    \n",
        "    ## outliers de adr\n",
        "    \n",
        "    # ver qué asignamos a los outliers o valores que no tienen sentido???\n",
        "    # habria que ver si lo queremos hacer y si sirve lo que hice abajo\n",
        "    # pongo cero a los que serían valores incorrectos, por ser menores a 1 y mayor a 5000 \n",
        "    # y luego los reemplazo por la media\n",
        "    booking_dataset['adr'] = booking_dataset['adr'].apply(lambda x: 0 if x < 1 or x > 5000 else x)\n",
        "    mean_adr = booking_dataset.adr.mean()\n",
        "    booking_dataset['adr'] = booking_dataset['adr'].apply(lambda x: mean_adr if x == 0 else x)\n",
        "    \n",
        "    ## fin outliers adr\n",
        "\n",
        "    # Variable adr se calcula la relacion por huesped. Los menores se los consiera a la mitad. Los babies no se toman para el calculo\n",
        "    booking_dataset['adr_por_persona'] = booking_dataset.apply(lambda x: float(x['adr']) / (float(x['adults']) + 0.5 * float(x['children'])) if (float(x['adults']) + 0.5 * float(x['children'])) > 0 else 0, axis=1)\n",
        "\n",
        "    # Eliminacion de columnas\n",
        "    # Se elimina variable 'hotel' para permitir generalizar para otros hoteles, no especificamente los del dataset\n",
        "    # Se elimina variable 'reservation_status' por no ser una variable de entrada, sino una de salida a predecir compatible con 'is_canceled'\n",
        "    # Se eliminan las variables 'reserved_room_type' y 'assigned_room_type' por no tener en claro que significa cada categoria,\n",
        "    #   si son categoricas ordinales, o sin simplemente ID. Tampoco si el huespues conoce el valor de 'assigned_room_type'\n",
        "    #   antes del check in\n",
        "    booking_dataset.drop(['hotel', 'reservation_status', 'reserved_room_type', 'assigned_room_type'], axis=1, inplace=True)\n",
        "\n",
        "    return booking_dataset"
      ],
      "execution_count": 0,
      "outputs": []
    },
    {
      "cell_type": "markdown",
      "metadata": {
        "id": "pLeBlvxqNjqd",
        "colab_type": "text"
      },
      "source": [
        "**Se ejecuta el preprocesamiento. Se compara los distintos balanceos con y sin eliminacion de duplicados**"
      ]
    },
    {
      "cell_type": "code",
      "metadata": {
        "id": "1ZcnX3Z-p5b-",
        "colab_type": "code",
        "colab": {}
      },
      "source": [
        "# Se ejecuta el preprocesamiento del dataset\n",
        "booking_dataset_con_dup = LoadAndPreprocessDataFrame(original_dataset_url, countries_dataset_url)\n",
        "\n",
        "# Se elimina duplicados\n",
        "booking_dataset_sin_dup = booking_dataset_con_dup.drop_duplicates(keep=False)\n",
        "\n",
        "# Se calcula el desbalanceo entre clases antes y despues de eliminar duplicados\n",
        "con_duplicados = booking_dataset_con_dup['is_canceled'].value_counts()\n",
        "sin_duplicados = booking_dataset_sin_dup['is_canceled'].value_counts()\n",
        "con_duplicados_perc = booking_dataset_con_dup['is_canceled'].value_counts(normalize=True)\n",
        "sin_duplicados_perc = booking_dataset_sin_dup['is_canceled'].value_counts(normalize=True)\n"
      ],
      "execution_count": 0,
      "outputs": []
    },
    {
      "cell_type": "markdown",
      "metadata": {
        "id": "UyV0CHCNNtCD",
        "colab_type": "text"
      },
      "source": [
        "Visualizacion del desbalanceo en cantidades abosultas"
      ]
    },
    {
      "cell_type": "code",
      "metadata": {
        "id": "TERret0MvLT8",
        "colab_type": "code",
        "colab": {
          "base_uri": "https://localhost:8080/",
          "height": 297
        },
        "outputId": "249b8d8f-5dae-4a10-f682-21b4f87a4a81"
      },
      "source": [
        "import matplotlib\n",
        "import matplotlib.pyplot as plt\n",
        "import numpy as np\n",
        "\n",
        "labels = ['Con duplicados', 'Sin duplicados']\n",
        "no_cancela = [con_duplicados[0], sin_duplicados[0]]\n",
        "cancela = [con_duplicados[1], sin_duplicados[1]]\n",
        "\n",
        "x = np.arange(len(labels))  # the label locations\n",
        "width = 0.35  # the width of the bars\n",
        "\n",
        "fig, ax = plt.subplots()\n",
        "rects1 = ax.bar(x - width/2, no_cancela, width, label='No cancela')\n",
        "rects2 = ax.bar(x + width/2, cancela, width, label='Cancela')\n",
        "\n",
        "# Add some text for labels, title and custom x-axis tick labels, etc.\n",
        "ax.set_ylabel('Registros')\n",
        "ax.set_title('Desbalanceo de clases del dataset')\n",
        "ax.set_xticks(x)\n",
        "ax.set_xticklabels(labels)\n",
        "ax.legend()\n",
        "\n",
        "\n",
        "def autolabel(rects):\n",
        "    \"\"\"Attach a text label above each bar in *rects*, displaying its height.\"\"\"\n",
        "    for rect in rects:\n",
        "        height = rect.get_height()\n",
        "        ax.annotate('{}'.format(height),\n",
        "                    xy=(rect.get_x() + rect.get_width() / 2, height),\n",
        "                    xytext=(0, 3),  # 3 points vertical offset\n",
        "                    textcoords=\"offset points\",\n",
        "                    ha='center', va='bottom')\n",
        "autolabel(rects1)\n",
        "autolabel(rects2)\n",
        "fig.tight_layout()\n",
        "plt.show()"
      ],
      "execution_count": 16,
      "outputs": [
        {
          "output_type": "display_data",
          "data": {
            "image/png": "[encoded data removed]",
            "text/plain": [
              "<Figure size 432x288 with 1 Axes>"
            ]
          },
          "metadata": {
            "tags": [],
            "needs_background": "light"
          }
        }
      ]
    },
    {
      "cell_type": "markdown",
      "metadata": {
        "id": "wCCN0oMeNxv-",
        "colab_type": "text"
      },
      "source": [
        "Visualizacion del desbalanceo porcentual"
      ]
    },
    {
      "cell_type": "code",
      "metadata": {
        "id": "JkQbLQk_LJNR",
        "colab_type": "code",
        "colab": {
          "base_uri": "https://localhost:8080/",
          "height": 297
        },
        "outputId": "f3dec1bd-fffb-4960-9220-5b3860ad6c79"
      },
      "source": [
        "import matplotlib\n",
        "import matplotlib.pyplot as plt\n",
        "import numpy as np\n",
        "\n",
        "labels = ['Con duplicados', 'Sin duplicados']\n",
        "no_cancela = [con_duplicados_perc[0], sin_duplicados_perc[0]]\n",
        "cancela = [con_duplicados_perc[1], sin_duplicados_perc[1]]\n",
        "\n",
        "x = np.arange(len(labels))  # the label locations\n",
        "width = 0.35  # the width of the bars\n",
        "\n",
        "fig, ax = plt.subplots()\n",
        "rects1 = ax.bar(x - width/2, no_cancela, width, label='No cancela')\n",
        "rects2 = ax.bar(x + width/2, cancela, width, label='Cancela')\n",
        "\n",
        "# Add some text for labels, title and custom x-axis tick labels, etc.\n",
        "ax.set_ylabel('%')\n",
        "ax.set_title('Desbalanceo de clases del dataset')\n",
        "ax.set_xticks(x)\n",
        "ax.set_xticklabels(labels)\n",
        "ax.legend()\n",
        "\n",
        "\n",
        "def autolabel(rects):\n",
        "    \"\"\"Attach a text label above each bar in *rects*, displaying its height.\"\"\"\n",
        "    for rect in rects:\n",
        "        height = rect.get_height()\n",
        "        ax.annotate('{:.0%}'.format(height),\n",
        "                    xy=(rect.get_x() + rect.get_width() / 2, height),\n",
        "                    xytext=(0, 3),  # 3 points vertical offset\n",
        "                    textcoords=\"offset points\",\n",
        "                    ha='center', va='bottom')\n",
        "autolabel(rects1)\n",
        "autolabel(rects2)\n",
        "fig.tight_layout()\n",
        "plt.show()"
      ],
      "execution_count": 17,
      "outputs": [
        {
          "output_type": "display_data",
          "data": {
            "image/png": "[encoded data removed]",
            "text/plain": [
              "<Figure size 432x288 with 1 Axes>"
            ]
          },
          "metadata": {
            "tags": [],
            "needs_background": "light"
          }
        }
      ]
    },
    {
      "cell_type": "markdown",
      "metadata": {
        "id": "0w7P8jlMN3SZ",
        "colab_type": "text"
      },
      "source": [
        "**Se almacena el dataset para futuros usos**"
      ]
    },
    {
      "cell_type": "code",
      "metadata": {
        "id": "kXpHdSFatNSZ",
        "colab_type": "code",
        "colab": {}
      },
      "source": [
        "# Se guarda el dataset procesado con y sin duplicados\n",
        "booking_dataset_con_dup.to_csv(preprocessed_dataset_url_con_dup, sep=',', encoding='utf-8')\n",
        "booking_dataset_sin_dup.to_csv(preprocessed_dataset_url_sin_dup, sep=',', encoding='utf-8')\n"
      ],
      "execution_count": 0,
      "outputs": []
    }
  ]
}