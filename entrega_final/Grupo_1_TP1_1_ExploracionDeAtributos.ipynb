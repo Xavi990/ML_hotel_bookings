{
  "nbformat": 4,
  "nbformat_minor": 0,
  "metadata": {
    "colab": {
      "name": "Grupo 1 - TP1 - Exploración de los atributos",
      "provenance": [],
      "collapsed_sections": [],
      "authorship_tag": "ABX9TyMyID6LwXg3ftXdQn9pbTkL",
      "include_colab_link": true
    },
    "kernelspec": {
      "name": "python3",
      "display_name": "Python 3"
    }
  },
  "cells": [
    {
      "cell_type": "markdown",
      "metadata": {
        "id": "view-in-github",
        "colab_type": "text"
      },
      "source": [
        "<a href=\"https://colab.research.google.com/github/Xavi990/ML_hotel_bookings/blob/master/Grupo_1_TP1_Exploraci%C3%B3n_de_los_atributos.ipynb\" target=\"_parent\"><img src=\"https://colab.research.google.com/assets/colab-badge.svg\" alt=\"Open In Colab\"/></a>"
      ]
    },
    {
      "cell_type": "markdown",
      "metadata": {
        "id": "i8SX71cYJEa3",
        "colab_type": "text"
      },
      "source": [
        "**Análisis Exploratorio de los datos**"
      ]
    },
    {
      "cell_type": "markdown",
      "metadata": {
        "id": "piPus55YsvLq",
        "colab_type": "text"
      },
      "source": [
        "Carga del Dataset"
      ]
    },
    {
      "cell_type": "code",
      "metadata": {
        "id": "4Rw3tC7yFHWV",
        "colab_type": "code",
        "outputId": "3cd4ce1c-0a64-4b75-bc8d-f018b3b4b226",
        "colab": {
          "resources": {
            "http://localhost:8080/nbextensions/google.colab/files.js": {
              "data": "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",
              "ok": true,
              "headers": [
                [
                  "content-type",
                  "application/javascript"
                ]
              ],
              "status": 200,
              "status_text": ""
            }
          },
          "base_uri": "https://localhost:8080/",
          "height": 74
        }
      },
      "source": [
        "import pandas as pd\n",
        "import numpy as np\n",
        "\n",
        "\n",
        "from google.colab import files\n",
        "\n",
        "uploaded=files.upload()"
      ],
      "execution_count": 1,
      "outputs": [
        {
          "output_type": "display_data",
          "data": {
            "text/html": [
              "\n",
              "     <input type=\"file\" id=\"files-c09451e1-ab47-4c70-bdda-7b51935cd0ed\" name=\"files[]\" multiple disabled />\n",
              "     <output id=\"result-c09451e1-ab47-4c70-bdda-7b51935cd0ed\">\n",
              "      Upload widget is only available when the cell has been executed in the\n",
              "      current browser session. Please rerun this cell to enable.\n",
              "      </output>\n",
              "      <script src=\"/nbextensions/google.colab/files.js\"></script> "
            ],
            "text/plain": [
              "<IPython.core.display.HTML object>"
            ]
          },
          "metadata": {
            "tags": []
          }
        },
        {
          "output_type": "stream",
          "text": [
            "Saving hotel_bookings.csv to hotel_bookings.csv\n"
          ],
          "name": "stdout"
        }
      ]
    },
    {
      "cell_type": "code",
      "metadata": {
        "id": "Wt3fu8G_Il42",
        "colab_type": "code",
        "outputId": "d4c54f63-e804-4d3a-af26-f716c8f88569",
        "colab": {
          "base_uri": "https://localhost:8080/",
          "height": 597
        }
      },
      "source": [
        "booking = pd.read_csv ('hotel_bookings.csv')\n",
        "booking.head (11)"
      ],
      "execution_count": 6,
      "outputs": [
        {
          "output_type": "execute_result",
          "data": {
            "text/html": [
              "<div>\n",
              "<style scoped>\n",
              "    .dataframe tbody tr th:only-of-type {\n",
              "        vertical-align: middle;\n",
              "    }\n",
              "\n",
              "    .dataframe tbody tr th {\n",
              "        vertical-align: top;\n",
              "    }\n",
              "\n",
              "    .dataframe thead th {\n",
              "        text-align: right;\n",
              "    }\n",
              "</style>\n",
              "<table border=\"1\" class=\"dataframe\">\n",
              "  <thead>\n",
              "    <tr style=\"text-align: right;\">\n",
              "      <th></th>\n",
              "      <th>hotel</th>\n",
              "      <th>is_canceled</th>\n",
              "      <th>lead_time</th>\n",
              "      <th>arrival_date_year</th>\n",
              "      <th>arrival_date_month</th>\n",
              "      <th>arrival_date_week_number</th>\n",
              "      <th>arrival_date_day_of_month</th>\n",
              "      <th>stays_in_weekend_nights</th>\n",
              "      <th>stays_in_week_nights</th>\n",
              "      <th>adults</th>\n",
              "      <th>children</th>\n",
              "      <th>babies</th>\n",
              "      <th>meal</th>\n",
              "      <th>country</th>\n",
              "      <th>market_segment</th>\n",
              "      <th>distribution_channel</th>\n",
              "      <th>is_repeated_guest</th>\n",
              "      <th>previous_cancellations</th>\n",
              "      <th>previous_bookings_not_canceled</th>\n",
              "      <th>reserved_room_type</th>\n",
              "      <th>assigned_room_type</th>\n",
              "      <th>booking_changes</th>\n",
              "      <th>deposit_type</th>\n",
              "      <th>agent</th>\n",
              "      <th>company</th>\n",
              "      <th>days_in_waiting_list</th>\n",
              "      <th>customer_type</th>\n",
              "      <th>adr</th>\n",
              "      <th>required_car_parking_spaces</th>\n",
              "      <th>total_of_special_requests</th>\n",
              "      <th>reservation_status</th>\n",
              "      <th>reservation_status_date</th>\n",
              "    </tr>\n",
              "  </thead>\n",
              "  <tbody>\n",
              "    <tr>\n",
              "      <th>0</th>\n",
              "      <td>Resort Hotel</td>\n",
              "      <td>0</td>\n",
              "      <td>342</td>\n",
              "      <td>2015</td>\n",
              "      <td>July</td>\n",
              "      <td>27</td>\n",
              "      <td>1</td>\n",
              "      <td>0</td>\n",
              "      <td>0</td>\n",
              "      <td>2</td>\n",
              "      <td>0.0</td>\n",
              "      <td>0</td>\n",
              "      <td>BB</td>\n",
              "      <td>PRT</td>\n",
              "      <td>Direct</td>\n",
              "      <td>Direct</td>\n",
              "      <td>0</td>\n",
              "      <td>0</td>\n",
              "      <td>0</td>\n",
              "      <td>C</td>\n",
              "      <td>C</td>\n",
              "      <td>3</td>\n",
              "      <td>No Deposit</td>\n",
              "      <td>NaN</td>\n",
              "      <td>NaN</td>\n",
              "      <td>0</td>\n",
              "      <td>Transient</td>\n",
              "      <td>0.0</td>\n",
              "      <td>0</td>\n",
              "      <td>0</td>\n",
              "      <td>Check-Out</td>\n",
              "      <td>2015-07-01</td>\n",
              "    </tr>\n",
              "    <tr>\n",
              "      <th>1</th>\n",
              "      <td>Resort Hotel</td>\n",
              "      <td>0</td>\n",
              "      <td>737</td>\n",
              "      <td>2015</td>\n",
              "      <td>July</td>\n",
              "      <td>27</td>\n",
              "      <td>1</td>\n",
              "      <td>0</td>\n",
              "      <td>0</td>\n",
              "      <td>2</td>\n",
              "      <td>0.0</td>\n",
              "      <td>0</td>\n",
              "      <td>BB</td>\n",
              "      <td>PRT</td>\n",
              "      <td>Direct</td>\n",
              "      <td>Direct</td>\n",
              "      <td>0</td>\n",
              "      <td>0</td>\n",
              "      <td>0</td>\n",
              "      <td>C</td>\n",
              "      <td>C</td>\n",
              "      <td>4</td>\n",
              "      <td>No Deposit</td>\n",
              "      <td>NaN</td>\n",
              "      <td>NaN</td>\n",
              "      <td>0</td>\n",
              "      <td>Transient</td>\n",
              "      <td>0.0</td>\n",
              "      <td>0</td>\n",
              "      <td>0</td>\n",
              "      <td>Check-Out</td>\n",
              "      <td>2015-07-01</td>\n",
              "    </tr>\n",
              "    <tr>\n",
              "      <th>2</th>\n",
              "      <td>Resort Hotel</td>\n",
              "      <td>0</td>\n",
              "      <td>7</td>\n",
              "      <td>2015</td>\n",
              "      <td>July</td>\n",
              "      <td>27</td>\n",
              "      <td>1</td>\n",
              "      <td>0</td>\n",
              "      <td>1</td>\n",
              "      <td>1</td>\n",
              "      <td>0.0</td>\n",
              "      <td>0</td>\n",
              "      <td>BB</td>\n",
              "      <td>GBR</td>\n",
              "      <td>Direct</td>\n",
              "      <td>Direct</td>\n",
              "      <td>0</td>\n",
              "      <td>0</td>\n",
              "      <td>0</td>\n",
              "      <td>A</td>\n",
              "      <td>C</td>\n",
              "      <td>0</td>\n",
              "      <td>No Deposit</td>\n",
              "      <td>NaN</td>\n",
              "      <td>NaN</td>\n",
              "      <td>0</td>\n",
              "      <td>Transient</td>\n",
              "      <td>75.0</td>\n",
              "      <td>0</td>\n",
              "      <td>0</td>\n",
              "      <td>Check-Out</td>\n",
              "      <td>2015-07-02</td>\n",
              "    </tr>\n",
              "    <tr>\n",
              "      <th>3</th>\n",
              "      <td>Resort Hotel</td>\n",
              "      <td>0</td>\n",
              "      <td>13</td>\n",
              "      <td>2015</td>\n",
              "      <td>July</td>\n",
              "      <td>27</td>\n",
              "      <td>1</td>\n",
              "      <td>0</td>\n",
              "      <td>1</td>\n",
              "      <td>1</td>\n",
              "      <td>0.0</td>\n",
              "      <td>0</td>\n",
              "      <td>BB</td>\n",
              "      <td>GBR</td>\n",
              "      <td>Corporate</td>\n",
              "      <td>Corporate</td>\n",
              "      <td>0</td>\n",
              "      <td>0</td>\n",
              "      <td>0</td>\n",
              "      <td>A</td>\n",
              "      <td>A</td>\n",
              "      <td>0</td>\n",
              "      <td>No Deposit</td>\n",
              "      <td>304.0</td>\n",
              "      <td>NaN</td>\n",
              "      <td>0</td>\n",
              "      <td>Transient</td>\n",
              "      <td>75.0</td>\n",
              "      <td>0</td>\n",
              "      <td>0</td>\n",
              "      <td>Check-Out</td>\n",
              "      <td>2015-07-02</td>\n",
              "    </tr>\n",
              "    <tr>\n",
              "      <th>4</th>\n",
              "      <td>Resort Hotel</td>\n",
              "      <td>0</td>\n",
              "      <td>14</td>\n",
              "      <td>2015</td>\n",
              "      <td>July</td>\n",
              "      <td>27</td>\n",
              "      <td>1</td>\n",
              "      <td>0</td>\n",
              "      <td>2</td>\n",
              "      <td>2</td>\n",
              "      <td>0.0</td>\n",
              "      <td>0</td>\n",
              "      <td>BB</td>\n",
              "      <td>GBR</td>\n",
              "      <td>Online TA</td>\n",
              "      <td>TA/TO</td>\n",
              "      <td>0</td>\n",
              "      <td>0</td>\n",
              "      <td>0</td>\n",
              "      <td>A</td>\n",
              "      <td>A</td>\n",
              "      <td>0</td>\n",
              "      <td>No Deposit</td>\n",
              "      <td>240.0</td>\n",
              "      <td>NaN</td>\n",
              "      <td>0</td>\n",
              "      <td>Transient</td>\n",
              "      <td>98.0</td>\n",
              "      <td>0</td>\n",
              "      <td>1</td>\n",
              "      <td>Check-Out</td>\n",
              "      <td>2015-07-03</td>\n",
              "    </tr>\n",
              "    <tr>\n",
              "      <th>5</th>\n",
              "      <td>Resort Hotel</td>\n",
              "      <td>0</td>\n",
              "      <td>14</td>\n",
              "      <td>2015</td>\n",
              "      <td>July</td>\n",
              "      <td>27</td>\n",
              "      <td>1</td>\n",
              "      <td>0</td>\n",
              "      <td>2</td>\n",
              "      <td>2</td>\n",
              "      <td>0.0</td>\n",
              "      <td>0</td>\n",
              "      <td>BB</td>\n",
              "      <td>GBR</td>\n",
              "      <td>Online TA</td>\n",
              "      <td>TA/TO</td>\n",
              "      <td>0</td>\n",
              "      <td>0</td>\n",
              "      <td>0</td>\n",
              "      <td>A</td>\n",
              "      <td>A</td>\n",
              "      <td>0</td>\n",
              "      <td>No Deposit</td>\n",
              "      <td>240.0</td>\n",
              "      <td>NaN</td>\n",
              "      <td>0</td>\n",
              "      <td>Transient</td>\n",
              "      <td>98.0</td>\n",
              "      <td>0</td>\n",
              "      <td>1</td>\n",
              "      <td>Check-Out</td>\n",
              "      <td>2015-07-03</td>\n",
              "    </tr>\n",
              "    <tr>\n",
              "      <th>6</th>\n",
              "      <td>Resort Hotel</td>\n",
              "      <td>0</td>\n",
              "      <td>0</td>\n",
              "      <td>2015</td>\n",
              "      <td>July</td>\n",
              "      <td>27</td>\n",
              "      <td>1</td>\n",
              "      <td>0</td>\n",
              "      <td>2</td>\n",
              "      <td>2</td>\n",
              "      <td>0.0</td>\n",
              "      <td>0</td>\n",
              "      <td>BB</td>\n",
              "      <td>PRT</td>\n",
              "      <td>Direct</td>\n",
              "      <td>Direct</td>\n",
              "      <td>0</td>\n",
              "      <td>0</td>\n",
              "      <td>0</td>\n",
              "      <td>C</td>\n",
              "      <td>C</td>\n",
              "      <td>0</td>\n",
              "      <td>No Deposit</td>\n",
              "      <td>NaN</td>\n",
              "      <td>NaN</td>\n",
              "      <td>0</td>\n",
              "      <td>Transient</td>\n",
              "      <td>107.0</td>\n",
              "      <td>0</td>\n",
              "      <td>0</td>\n",
              "      <td>Check-Out</td>\n",
              "      <td>2015-07-03</td>\n",
              "    </tr>\n",
              "    <tr>\n",
              "      <th>7</th>\n",
              "      <td>Resort Hotel</td>\n",
              "      <td>0</td>\n",
              "      <td>9</td>\n",
              "      <td>2015</td>\n",
              "      <td>July</td>\n",
              "      <td>27</td>\n",
              "      <td>1</td>\n",
              "      <td>0</td>\n",
              "      <td>2</td>\n",
              "      <td>2</td>\n",
              "      <td>0.0</td>\n",
              "      <td>0</td>\n",
              "      <td>FB</td>\n",
              "      <td>PRT</td>\n",
              "      <td>Direct</td>\n",
              "      <td>Direct</td>\n",
              "      <td>0</td>\n",
              "      <td>0</td>\n",
              "      <td>0</td>\n",
              "      <td>C</td>\n",
              "      <td>C</td>\n",
              "      <td>0</td>\n",
              "      <td>No Deposit</td>\n",
              "      <td>303.0</td>\n",
              "      <td>NaN</td>\n",
              "      <td>0</td>\n",
              "      <td>Transient</td>\n",
              "      <td>103.0</td>\n",
              "      <td>0</td>\n",
              "      <td>1</td>\n",
              "      <td>Check-Out</td>\n",
              "      <td>2015-07-03</td>\n",
              "    </tr>\n",
              "    <tr>\n",
              "      <th>8</th>\n",
              "      <td>Resort Hotel</td>\n",
              "      <td>1</td>\n",
              "      <td>85</td>\n",
              "      <td>2015</td>\n",
              "      <td>July</td>\n",
              "      <td>27</td>\n",
              "      <td>1</td>\n",
              "      <td>0</td>\n",
              "      <td>3</td>\n",
              "      <td>2</td>\n",
              "      <td>0.0</td>\n",
              "      <td>0</td>\n",
              "      <td>BB</td>\n",
              "      <td>PRT</td>\n",
              "      <td>Online TA</td>\n",
              "      <td>TA/TO</td>\n",
              "      <td>0</td>\n",
              "      <td>0</td>\n",
              "      <td>0</td>\n",
              "      <td>A</td>\n",
              "      <td>A</td>\n",
              "      <td>0</td>\n",
              "      <td>No Deposit</td>\n",
              "      <td>240.0</td>\n",
              "      <td>NaN</td>\n",
              "      <td>0</td>\n",
              "      <td>Transient</td>\n",
              "      <td>82.0</td>\n",
              "      <td>0</td>\n",
              "      <td>1</td>\n",
              "      <td>Canceled</td>\n",
              "      <td>2015-05-06</td>\n",
              "    </tr>\n",
              "    <tr>\n",
              "      <th>9</th>\n",
              "      <td>Resort Hotel</td>\n",
              "      <td>1</td>\n",
              "      <td>75</td>\n",
              "      <td>2015</td>\n",
              "      <td>July</td>\n",
              "      <td>27</td>\n",
              "      <td>1</td>\n",
              "      <td>0</td>\n",
              "      <td>3</td>\n",
              "      <td>2</td>\n",
              "      <td>0.0</td>\n",
              "      <td>0</td>\n",
              "      <td>HB</td>\n",
              "      <td>PRT</td>\n",
              "      <td>Offline TA/TO</td>\n",
              "      <td>TA/TO</td>\n",
              "      <td>0</td>\n",
              "      <td>0</td>\n",
              "      <td>0</td>\n",
              "      <td>D</td>\n",
              "      <td>D</td>\n",
              "      <td>0</td>\n",
              "      <td>No Deposit</td>\n",
              "      <td>15.0</td>\n",
              "      <td>NaN</td>\n",
              "      <td>0</td>\n",
              "      <td>Transient</td>\n",
              "      <td>105.5</td>\n",
              "      <td>0</td>\n",
              "      <td>0</td>\n",
              "      <td>Canceled</td>\n",
              "      <td>2015-04-22</td>\n",
              "    </tr>\n",
              "    <tr>\n",
              "      <th>10</th>\n",
              "      <td>Resort Hotel</td>\n",
              "      <td>1</td>\n",
              "      <td>23</td>\n",
              "      <td>2015</td>\n",
              "      <td>July</td>\n",
              "      <td>27</td>\n",
              "      <td>1</td>\n",
              "      <td>0</td>\n",
              "      <td>4</td>\n",
              "      <td>2</td>\n",
              "      <td>0.0</td>\n",
              "      <td>0</td>\n",
              "      <td>BB</td>\n",
              "      <td>PRT</td>\n",
              "      <td>Online TA</td>\n",
              "      <td>TA/TO</td>\n",
              "      <td>0</td>\n",
              "      <td>0</td>\n",
              "      <td>0</td>\n",
              "      <td>E</td>\n",
              "      <td>E</td>\n",
              "      <td>0</td>\n",
              "      <td>No Deposit</td>\n",
              "      <td>240.0</td>\n",
              "      <td>NaN</td>\n",
              "      <td>0</td>\n",
              "      <td>Transient</td>\n",
              "      <td>123.0</td>\n",
              "      <td>0</td>\n",
              "      <td>0</td>\n",
              "      <td>Canceled</td>\n",
              "      <td>2015-06-23</td>\n",
              "    </tr>\n",
              "  </tbody>\n",
              "</table>\n",
              "</div>"
            ],
            "text/plain": [
              "           hotel  is_canceled  ...  reservation_status  reservation_status_date\n",
              "0   Resort Hotel            0  ...           Check-Out               2015-07-01\n",
              "1   Resort Hotel            0  ...           Check-Out               2015-07-01\n",
              "2   Resort Hotel            0  ...           Check-Out               2015-07-02\n",
              "3   Resort Hotel            0  ...           Check-Out               2015-07-02\n",
              "4   Resort Hotel            0  ...           Check-Out               2015-07-03\n",
              "5   Resort Hotel            0  ...           Check-Out               2015-07-03\n",
              "6   Resort Hotel            0  ...           Check-Out               2015-07-03\n",
              "7   Resort Hotel            0  ...           Check-Out               2015-07-03\n",
              "8   Resort Hotel            1  ...            Canceled               2015-05-06\n",
              "9   Resort Hotel            1  ...            Canceled               2015-04-22\n",
              "10  Resort Hotel            1  ...            Canceled               2015-06-23\n",
              "\n",
              "[11 rows x 32 columns]"
            ]
          },
          "metadata": {
            "tags": []
          },
          "execution_count": 6
        }
      ]
    },
    {
      "cell_type": "markdown",
      "metadata": {
        "id": "VELFR9eVs11Y",
        "colab_type": "text"
      },
      "source": [
        "Exploración del Dataset: Análisis de la cantidad de filas y columnas y nombres de las columnas"
      ]
    },
    {
      "cell_type": "code",
      "metadata": {
        "id": "4mgt8b0oIzBv",
        "colab_type": "code",
        "outputId": "5bba3fcc-7795-4471-d2c5-f54d76cf51fc",
        "colab": {
          "base_uri": "https://localhost:8080/",
          "height": 34
        }
      },
      "source": [
        "booking.shape"
      ],
      "execution_count": 7,
      "outputs": [
        {
          "output_type": "execute_result",
          "data": {
            "text/plain": [
              "(119390, 32)"
            ]
          },
          "metadata": {
            "tags": []
          },
          "execution_count": 7
        }
      ]
    },
    {
      "cell_type": "code",
      "metadata": {
        "id": "tiGTH8lrJTNC",
        "colab_type": "code",
        "outputId": "4b60857f-721c-4fec-9699-3a45b3205ce5",
        "colab": {
          "base_uri": "https://localhost:8080/",
          "height": 221
        }
      },
      "source": [
        "booking.columns"
      ],
      "execution_count": 9,
      "outputs": [
        {
          "output_type": "execute_result",
          "data": {
            "text/plain": [
              "Index(['hotel', 'is_canceled', 'lead_time', 'arrival_date_year',\n",
              "       'arrival_date_month', 'arrival_date_week_number',\n",
              "       'arrival_date_day_of_month', 'stays_in_weekend_nights',\n",
              "       'stays_in_week_nights', 'adults', 'children', 'babies', 'meal',\n",
              "       'country', 'market_segment', 'distribution_channel',\n",
              "       'is_repeated_guest', 'previous_cancellations',\n",
              "       'previous_bookings_not_canceled', 'reserved_room_type',\n",
              "       'assigned_room_type', 'booking_changes', 'deposit_type', 'agent',\n",
              "       'company', 'days_in_waiting_list', 'customer_type', 'adr',\n",
              "       'required_car_parking_spaces', 'total_of_special_requests',\n",
              "       'reservation_status', 'reservation_status_date'],\n",
              "      dtype='object')"
            ]
          },
          "metadata": {
            "tags": []
          },
          "execution_count": 9
        }
      ]
    },
    {
      "cell_type": "markdown",
      "metadata": {
        "id": "iBC4fL52tW1M",
        "colab_type": "text"
      },
      "source": [
        "Análisis de los atributos: realizamos un análisis para ver cuáles son los atributos categóricos y cuáles numéricos. También buscamos en qué casos había valores nulos y las características de las variables numéricas."
      ]
    },
    {
      "cell_type": "code",
      "metadata": {
        "id": "7z7l4vHiKCFz",
        "colab_type": "code",
        "outputId": "c2b09131-4f71-4196-857e-11238b4a55ae",
        "colab": {
          "base_uri": "https://localhost:8080/",
          "height": 680
        }
      },
      "source": [
        "booking.info (verbose=True)"
      ],
      "execution_count": 42,
      "outputs": [
        {
          "output_type": "stream",
          "text": [
            "<class 'pandas.core.frame.DataFrame'>\n",
            "RangeIndex: 119390 entries, 0 to 119389\n",
            "Data columns (total 32 columns):\n",
            " #   Column                          Non-Null Count   Dtype  \n",
            "---  ------                          --------------   -----  \n",
            " 0   hotel                           119390 non-null  object \n",
            " 1   is_canceled                     119390 non-null  int64  \n",
            " 2   lead_time                       119390 non-null  int64  \n",
            " 3   arrival_date_year               119390 non-null  int64  \n",
            " 4   arrival_date_month              119390 non-null  object \n",
            " 5   arrival_date_week_number        119390 non-null  int64  \n",
            " 6   arrival_date_day_of_month       119390 non-null  int64  \n",
            " 7   stays_in_weekend_nights         119390 non-null  int64  \n",
            " 8   stays_in_week_nights            119390 non-null  int64  \n",
            " 9   adults                          119390 non-null  int64  \n",
            " 10  children                        119386 non-null  float64\n",
            " 11  babies                          119390 non-null  int64  \n",
            " 12  meal                            119390 non-null  object \n",
            " 13  country                         118902 non-null  object \n",
            " 14  market_segment                  119390 non-null  object \n",
            " 15  distribution_channel            119390 non-null  object \n",
            " 16  is_repeated_guest               119390 non-null  int64  \n",
            " 17  previous_cancellations          119390 non-null  int64  \n",
            " 18  previous_bookings_not_canceled  119390 non-null  int64  \n",
            " 19  reserved_room_type              119390 non-null  object \n",
            " 20  assigned_room_type              119390 non-null  object \n",
            " 21  booking_changes                 119390 non-null  int64  \n",
            " 22  deposit_type                    119390 non-null  object \n",
            " 23  agent                           103050 non-null  float64\n",
            " 24  company                         6797 non-null    float64\n",
            " 25  days_in_waiting_list            119390 non-null  int64  \n",
            " 26  customer_type                   119390 non-null  object \n",
            " 27  adr                             119390 non-null  float64\n",
            " 28  required_car_parking_spaces     119390 non-null  int64  \n",
            " 29  total_of_special_requests       119390 non-null  int64  \n",
            " 30  reservation_status              119390 non-null  object \n",
            " 31  reservation_status_date         119390 non-null  object \n",
            "dtypes: float64(4), int64(16), object(12)\n",
            "memory usage: 29.1+ MB\n"
          ],
          "name": "stdout"
        }
      ]
    },
    {
      "cell_type": "code",
      "metadata": {
        "id": "MY1ZrcMyJVFZ",
        "colab_type": "code",
        "outputId": "f6de2c49-8242-4161-8e44-8a175f697c8b",
        "colab": {
          "base_uri": "https://localhost:8080/",
          "height": 317
        }
      },
      "source": [
        "booking.describe()"
      ],
      "execution_count": 40,
      "outputs": [
        {
          "output_type": "execute_result",
          "data": {
            "text/html": [
              "<div>\n",
              "<style scoped>\n",
              "    .dataframe tbody tr th:only-of-type {\n",
              "        vertical-align: middle;\n",
              "    }\n",
              "\n",
              "    .dataframe tbody tr th {\n",
              "        vertical-align: top;\n",
              "    }\n",
              "\n",
              "    .dataframe thead th {\n",
              "        text-align: right;\n",
              "    }\n",
              "</style>\n",
              "<table border=\"1\" class=\"dataframe\">\n",
              "  <thead>\n",
              "    <tr style=\"text-align: right;\">\n",
              "      <th></th>\n",
              "      <th>is_canceled</th>\n",
              "      <th>lead_time</th>\n",
              "      <th>arrival_date_year</th>\n",
              "      <th>arrival_date_week_number</th>\n",
              "      <th>arrival_date_day_of_month</th>\n",
              "      <th>stays_in_weekend_nights</th>\n",
              "      <th>stays_in_week_nights</th>\n",
              "      <th>adults</th>\n",
              "      <th>children</th>\n",
              "      <th>babies</th>\n",
              "      <th>is_repeated_guest</th>\n",
              "      <th>previous_cancellations</th>\n",
              "      <th>previous_bookings_not_canceled</th>\n",
              "      <th>booking_changes</th>\n",
              "      <th>agent</th>\n",
              "      <th>company</th>\n",
              "      <th>days_in_waiting_list</th>\n",
              "      <th>adr</th>\n",
              "      <th>required_car_parking_spaces</th>\n",
              "      <th>total_of_special_requests</th>\n",
              "    </tr>\n",
              "  </thead>\n",
              "  <tbody>\n",
              "    <tr>\n",
              "      <th>count</th>\n",
              "      <td>119390.000000</td>\n",
              "      <td>119390.000000</td>\n",
              "      <td>119390.000000</td>\n",
              "      <td>119390.000000</td>\n",
              "      <td>119390.000000</td>\n",
              "      <td>119390.000000</td>\n",
              "      <td>119390.000000</td>\n",
              "      <td>119390.000000</td>\n",
              "      <td>119386.000000</td>\n",
              "      <td>119390.000000</td>\n",
              "      <td>119390.000000</td>\n",
              "      <td>119390.000000</td>\n",
              "      <td>119390.000000</td>\n",
              "      <td>119390.000000</td>\n",
              "      <td>103050.000000</td>\n",
              "      <td>6797.000000</td>\n",
              "      <td>119390.000000</td>\n",
              "      <td>119390.000000</td>\n",
              "      <td>119390.000000</td>\n",
              "      <td>119390.000000</td>\n",
              "    </tr>\n",
              "    <tr>\n",
              "      <th>mean</th>\n",
              "      <td>0.370416</td>\n",
              "      <td>104.011416</td>\n",
              "      <td>2016.156554</td>\n",
              "      <td>27.165173</td>\n",
              "      <td>15.798241</td>\n",
              "      <td>0.927599</td>\n",
              "      <td>2.500302</td>\n",
              "      <td>1.856403</td>\n",
              "      <td>0.103890</td>\n",
              "      <td>0.007949</td>\n",
              "      <td>0.031912</td>\n",
              "      <td>0.087118</td>\n",
              "      <td>0.137097</td>\n",
              "      <td>0.221124</td>\n",
              "      <td>86.693382</td>\n",
              "      <td>189.266735</td>\n",
              "      <td>2.321149</td>\n",
              "      <td>101.831122</td>\n",
              "      <td>0.062518</td>\n",
              "      <td>0.571363</td>\n",
              "    </tr>\n",
              "    <tr>\n",
              "      <th>std</th>\n",
              "      <td>0.482918</td>\n",
              "      <td>106.863097</td>\n",
              "      <td>0.707476</td>\n",
              "      <td>13.605138</td>\n",
              "      <td>8.780829</td>\n",
              "      <td>0.998613</td>\n",
              "      <td>1.908286</td>\n",
              "      <td>0.579261</td>\n",
              "      <td>0.398561</td>\n",
              "      <td>0.097436</td>\n",
              "      <td>0.175767</td>\n",
              "      <td>0.844336</td>\n",
              "      <td>1.497437</td>\n",
              "      <td>0.652306</td>\n",
              "      <td>110.774548</td>\n",
              "      <td>131.655015</td>\n",
              "      <td>17.594721</td>\n",
              "      <td>50.535790</td>\n",
              "      <td>0.245291</td>\n",
              "      <td>0.792798</td>\n",
              "    </tr>\n",
              "    <tr>\n",
              "      <th>min</th>\n",
              "      <td>0.000000</td>\n",
              "      <td>0.000000</td>\n",
              "      <td>2015.000000</td>\n",
              "      <td>1.000000</td>\n",
              "      <td>1.000000</td>\n",
              "      <td>0.000000</td>\n",
              "      <td>0.000000</td>\n",
              "      <td>0.000000</td>\n",
              "      <td>0.000000</td>\n",
              "      <td>0.000000</td>\n",
              "      <td>0.000000</td>\n",
              "      <td>0.000000</td>\n",
              "      <td>0.000000</td>\n",
              "      <td>0.000000</td>\n",
              "      <td>1.000000</td>\n",
              "      <td>6.000000</td>\n",
              "      <td>0.000000</td>\n",
              "      <td>-6.380000</td>\n",
              "      <td>0.000000</td>\n",
              "      <td>0.000000</td>\n",
              "    </tr>\n",
              "    <tr>\n",
              "      <th>25%</th>\n",
              "      <td>0.000000</td>\n",
              "      <td>18.000000</td>\n",
              "      <td>2016.000000</td>\n",
              "      <td>16.000000</td>\n",
              "      <td>8.000000</td>\n",
              "      <td>0.000000</td>\n",
              "      <td>1.000000</td>\n",
              "      <td>2.000000</td>\n",
              "      <td>0.000000</td>\n",
              "      <td>0.000000</td>\n",
              "      <td>0.000000</td>\n",
              "      <td>0.000000</td>\n",
              "      <td>0.000000</td>\n",
              "      <td>0.000000</td>\n",
              "      <td>9.000000</td>\n",
              "      <td>62.000000</td>\n",
              "      <td>0.000000</td>\n",
              "      <td>69.290000</td>\n",
              "      <td>0.000000</td>\n",
              "      <td>0.000000</td>\n",
              "    </tr>\n",
              "    <tr>\n",
              "      <th>50%</th>\n",
              "      <td>0.000000</td>\n",
              "      <td>69.000000</td>\n",
              "      <td>2016.000000</td>\n",
              "      <td>28.000000</td>\n",
              "      <td>16.000000</td>\n",
              "      <td>1.000000</td>\n",
              "      <td>2.000000</td>\n",
              "      <td>2.000000</td>\n",
              "      <td>0.000000</td>\n",
              "      <td>0.000000</td>\n",
              "      <td>0.000000</td>\n",
              "      <td>0.000000</td>\n",
              "      <td>0.000000</td>\n",
              "      <td>0.000000</td>\n",
              "      <td>14.000000</td>\n",
              "      <td>179.000000</td>\n",
              "      <td>0.000000</td>\n",
              "      <td>94.575000</td>\n",
              "      <td>0.000000</td>\n",
              "      <td>0.000000</td>\n",
              "    </tr>\n",
              "    <tr>\n",
              "      <th>75%</th>\n",
              "      <td>1.000000</td>\n",
              "      <td>160.000000</td>\n",
              "      <td>2017.000000</td>\n",
              "      <td>38.000000</td>\n",
              "      <td>23.000000</td>\n",
              "      <td>2.000000</td>\n",
              "      <td>3.000000</td>\n",
              "      <td>2.000000</td>\n",
              "      <td>0.000000</td>\n",
              "      <td>0.000000</td>\n",
              "      <td>0.000000</td>\n",
              "      <td>0.000000</td>\n",
              "      <td>0.000000</td>\n",
              "      <td>0.000000</td>\n",
              "      <td>229.000000</td>\n",
              "      <td>270.000000</td>\n",
              "      <td>0.000000</td>\n",
              "      <td>126.000000</td>\n",
              "      <td>0.000000</td>\n",
              "      <td>1.000000</td>\n",
              "    </tr>\n",
              "    <tr>\n",
              "      <th>max</th>\n",
              "      <td>1.000000</td>\n",
              "      <td>737.000000</td>\n",
              "      <td>2017.000000</td>\n",
              "      <td>53.000000</td>\n",
              "      <td>31.000000</td>\n",
              "      <td>19.000000</td>\n",
              "      <td>50.000000</td>\n",
              "      <td>55.000000</td>\n",
              "      <td>10.000000</td>\n",
              "      <td>10.000000</td>\n",
              "      <td>1.000000</td>\n",
              "      <td>26.000000</td>\n",
              "      <td>72.000000</td>\n",
              "      <td>21.000000</td>\n",
              "      <td>535.000000</td>\n",
              "      <td>543.000000</td>\n",
              "      <td>391.000000</td>\n",
              "      <td>5400.000000</td>\n",
              "      <td>8.000000</td>\n",
              "      <td>5.000000</td>\n",
              "    </tr>\n",
              "  </tbody>\n",
              "</table>\n",
              "</div>"
            ],
            "text/plain": [
              "         is_canceled  ...  total_of_special_requests\n",
              "count  119390.000000  ...              119390.000000\n",
              "mean        0.370416  ...                   0.571363\n",
              "std         0.482918  ...                   0.792798\n",
              "min         0.000000  ...                   0.000000\n",
              "25%         0.000000  ...                   0.000000\n",
              "50%         0.000000  ...                   0.000000\n",
              "75%         1.000000  ...                   1.000000\n",
              "max         1.000000  ...                   5.000000\n",
              "\n",
              "[8 rows x 20 columns]"
            ]
          },
          "metadata": {
            "tags": []
          },
          "execution_count": 40
        }
      ]
    },
    {
      "cell_type": "markdown",
      "metadata": {
        "id": "ADl_BvG4tAu8",
        "colab_type": "text"
      },
      "source": [
        "Análisis de los valores de cada variable"
      ]
    },
    {
      "cell_type": "code",
      "metadata": {
        "id": "vqKxqIuMoFa8",
        "colab_type": "code",
        "outputId": "497e2dc9-e0e7-46a0-9b7a-0d6e3d748d4a",
        "colab": {
          "base_uri": "https://localhost:8080/",
          "height": 68
        }
      },
      "source": [
        "booking['hotel'].value_counts()"
      ],
      "execution_count": 10,
      "outputs": [
        {
          "output_type": "execute_result",
          "data": {
            "text/plain": [
              "City Hotel      79330\n",
              "Resort Hotel    40060\n",
              "Name: hotel, dtype: int64"
            ]
          },
          "metadata": {
            "tags": []
          },
          "execution_count": 10
        }
      ]
    },
    {
      "cell_type": "code",
      "metadata": {
        "id": "slFWRK6be7_F",
        "colab_type": "code",
        "outputId": "7ec4c57e-9c39-4022-e356-793ea862fcb9",
        "colab": {
          "base_uri": "https://localhost:8080/",
          "height": 68
        }
      },
      "source": [
        "booking['is_canceled'].value_counts(normalize=True)"
      ],
      "execution_count": 8,
      "outputs": [
        {
          "output_type": "execute_result",
          "data": {
            "text/plain": [
              "0    0.629584\n",
              "1    0.370416\n",
              "Name: is_canceled, dtype: float64"
            ]
          },
          "metadata": {
            "tags": []
          },
          "execution_count": 8
        }
      ]
    },
    {
      "cell_type": "code",
      "metadata": {
        "id": "sblD6PdAolYX",
        "colab_type": "code",
        "outputId": "6323bc37-e0a6-4ae2-f529-f373dee2be2a",
        "colab": {
          "base_uri": "https://localhost:8080/",
          "height": 85
        }
      },
      "source": [
        "booking['arrival_date_year'].value_counts()"
      ],
      "execution_count": 12,
      "outputs": [
        {
          "output_type": "execute_result",
          "data": {
            "text/plain": [
              "2016    56707\n",
              "2017    40687\n",
              "2015    21996\n",
              "Name: arrival_date_year, dtype: int64"
            ]
          },
          "metadata": {
            "tags": []
          },
          "execution_count": 12
        }
      ]
    },
    {
      "cell_type": "code",
      "metadata": {
        "id": "mJihjLXws_oZ",
        "colab_type": "code",
        "outputId": "dc6f05ef-d571-4239-97d0-2e4c8cab49f5",
        "colab": {
          "base_uri": "https://localhost:8080/",
          "height": 238
        }
      },
      "source": [
        "booking['arrival_date_month'].value_counts()"
      ],
      "execution_count": 13,
      "outputs": [
        {
          "output_type": "execute_result",
          "data": {
            "text/plain": [
              "August       13877\n",
              "July         12661\n",
              "May          11791\n",
              "October      11160\n",
              "April        11089\n",
              "June         10939\n",
              "September    10508\n",
              "March         9794\n",
              "February      8068\n",
              "November      6794\n",
              "December      6780\n",
              "January       5929\n",
              "Name: arrival_date_month, dtype: int64"
            ]
          },
          "metadata": {
            "tags": []
          },
          "execution_count": 13
        }
      ]
    },
    {
      "cell_type": "code",
      "metadata": {
        "id": "1q7ybES2vMSE",
        "colab_type": "code",
        "colab": {
          "base_uri": "https://localhost:8080/",
          "height": 935
        },
        "outputId": "82fce8fb-5328-4581-e8c6-d576a4abe1d8"
      },
      "source": [
        "booking['arrival_date_week_number'].value_counts()"
      ],
      "execution_count": 105,
      "outputs": [
        {
          "output_type": "execute_result",
          "data": {
            "text/plain": [
              "33    3580\n",
              "30    3087\n",
              "32    3045\n",
              "34    3040\n",
              "18    2926\n",
              "21    2854\n",
              "28    2853\n",
              "17    2805\n",
              "20    2785\n",
              "29    2763\n",
              "42    2756\n",
              "31    2741\n",
              "41    2699\n",
              "15    2689\n",
              "27    2664\n",
              "25    2663\n",
              "38    2661\n",
              "23    2621\n",
              "35    2593\n",
              "39    2581\n",
              "22    2546\n",
              "24    2498\n",
              "13    2416\n",
              "16    2405\n",
              "19    2402\n",
              "40    2397\n",
              "26    2391\n",
              "43    2352\n",
              "44    2272\n",
              "14    2264\n",
              "37    2229\n",
              "8     2216\n",
              "36    2167\n",
              "10    2149\n",
              "9     2117\n",
              "7     2109\n",
              "12    2083\n",
              "11    2070\n",
              "45    1941\n",
              "53    1816\n",
              "49    1782\n",
              "47    1685\n",
              "46    1574\n",
              "6     1508\n",
              "50    1505\n",
              "48    1504\n",
              "4     1487\n",
              "5     1387\n",
              "3     1319\n",
              "2     1218\n",
              "52    1195\n",
              "1     1047\n",
              "51     933\n",
              "Name: arrival_date_week_number, dtype: int64"
            ]
          },
          "metadata": {
            "tags": []
          },
          "execution_count": 105
        }
      ]
    },
    {
      "cell_type": "code",
      "metadata": {
        "id": "jqOcSvzBvMZH",
        "colab_type": "code",
        "colab": {
          "base_uri": "https://localhost:8080/",
          "height": 561
        },
        "outputId": "1c2ff1b9-9a68-41bb-dd77-241458ff8287"
      },
      "source": [
        "booking['arrival_date_day_of_month'].value_counts()"
      ],
      "execution_count": 107,
      "outputs": [
        {
          "output_type": "execute_result",
          "data": {
            "text/plain": [
              "17    4406\n",
              "5     4317\n",
              "15    4196\n",
              "25    4160\n",
              "26    4147\n",
              "9     4096\n",
              "12    4087\n",
              "16    4078\n",
              "2     4055\n",
              "19    4052\n",
              "20    4032\n",
              "18    4002\n",
              "24    3993\n",
              "28    3946\n",
              "8     3921\n",
              "3     3855\n",
              "30    3853\n",
              "6     3833\n",
              "14    3819\n",
              "27    3802\n",
              "21    3767\n",
              "4     3763\n",
              "13    3745\n",
              "7     3665\n",
              "1     3626\n",
              "23    3616\n",
              "11    3599\n",
              "22    3596\n",
              "29    3580\n",
              "10    3575\n",
              "31    2208\n",
              "Name: arrival_date_day_of_month, dtype: int64"
            ]
          },
          "metadata": {
            "tags": []
          },
          "execution_count": 107
        }
      ]
    },
    {
      "cell_type": "code",
      "metadata": {
        "id": "gBaMdFmztI7r",
        "colab_type": "code",
        "outputId": "f2bb8b7b-b65d-4c4e-8e68-789b35746007",
        "colab": {
          "base_uri": "https://localhost:8080/",
          "height": 323
        }
      },
      "source": [
        "booking['stays_in_weekend_nights'].value_counts()"
      ],
      "execution_count": 16,
      "outputs": [
        {
          "output_type": "execute_result",
          "data": {
            "text/plain": [
              "0     51998\n",
              "2     33308\n",
              "1     30626\n",
              "4      1855\n",
              "3      1259\n",
              "6       153\n",
              "5        79\n",
              "8        60\n",
              "7        19\n",
              "9        11\n",
              "10        7\n",
              "12        5\n",
              "13        3\n",
              "16        3\n",
              "14        2\n",
              "18        1\n",
              "19        1\n",
              "Name: stays_in_weekend_nights, dtype: int64"
            ]
          },
          "metadata": {
            "tags": []
          },
          "execution_count": 16
        }
      ]
    },
    {
      "cell_type": "code",
      "metadata": {
        "id": "TvDm7UN7vGRp",
        "colab_type": "code",
        "colab": {
          "base_uri": "https://localhost:8080/",
          "height": 629
        },
        "outputId": "8a4b88d3-d990-449b-f83d-d779cb7124be"
      },
      "source": [
        "booking['stays_in_week_nights'].value_counts()"
      ],
      "execution_count": 104,
      "outputs": [
        {
          "output_type": "execute_result",
          "data": {
            "text/plain": [
              "2     33684\n",
              "1     30310\n",
              "3     22258\n",
              "5     11077\n",
              "4      9563\n",
              "0      7645\n",
              "6      1499\n",
              "10     1036\n",
              "7      1029\n",
              "8       656\n",
              "9       231\n",
              "15       85\n",
              "11       56\n",
              "19       44\n",
              "12       42\n",
              "20       41\n",
              "14       35\n",
              "13       27\n",
              "16       16\n",
              "21       15\n",
              "22        7\n",
              "18        6\n",
              "25        6\n",
              "30        5\n",
              "17        4\n",
              "24        3\n",
              "40        2\n",
              "42        1\n",
              "26        1\n",
              "32        1\n",
              "33        1\n",
              "34        1\n",
              "35        1\n",
              "41        1\n",
              "50        1\n",
              "Name: stays_in_week_nights, dtype: int64"
            ]
          },
          "metadata": {
            "tags": []
          },
          "execution_count": 104
        }
      ]
    },
    {
      "cell_type": "code",
      "metadata": {
        "id": "hi3asskWtUPD",
        "colab_type": "code",
        "outputId": "60b3fabe-13b3-474c-922c-2d7428a8ad4d",
        "colab": {
          "base_uri": "https://localhost:8080/",
          "height": 272
        }
      },
      "source": [
        "booking['adults'].value_counts()"
      ],
      "execution_count": 15,
      "outputs": [
        {
          "output_type": "execute_result",
          "data": {
            "text/plain": [
              "2     89680\n",
              "1     23027\n",
              "3      6202\n",
              "0       403\n",
              "4        62\n",
              "26        5\n",
              "27        2\n",
              "20        2\n",
              "5         2\n",
              "55        1\n",
              "50        1\n",
              "40        1\n",
              "10        1\n",
              "6         1\n",
              "Name: adults, dtype: int64"
            ]
          },
          "metadata": {
            "tags": []
          },
          "execution_count": 15
        }
      ]
    },
    {
      "cell_type": "code",
      "metadata": {
        "id": "j8GdIyg7tjwJ",
        "colab_type": "code",
        "outputId": "17a197af-418d-4600-f764-58c3a60ac8b8",
        "colab": {
          "base_uri": "https://localhost:8080/",
          "height": 119
        }
      },
      "source": [
        "booking['children'].value_counts()"
      ],
      "execution_count": 17,
      "outputs": [
        {
          "output_type": "execute_result",
          "data": {
            "text/plain": [
              "0.0     110796\n",
              "1.0       4861\n",
              "2.0       3652\n",
              "3.0         76\n",
              "10.0         1\n",
              "Name: children, dtype: int64"
            ]
          },
          "metadata": {
            "tags": []
          },
          "execution_count": 17
        }
      ]
    },
    {
      "cell_type": "code",
      "metadata": {
        "id": "bthMiW4CtovP",
        "colab_type": "code",
        "outputId": "918371ea-4122-4317-b295-e9b47b203a08",
        "colab": {
          "base_uri": "https://localhost:8080/",
          "height": 119
        }
      },
      "source": [
        "booking['babies'].value_counts()"
      ],
      "execution_count": 18,
      "outputs": [
        {
          "output_type": "execute_result",
          "data": {
            "text/plain": [
              "0     118473\n",
              "1        900\n",
              "2         15\n",
              "10         1\n",
              "9          1\n",
              "Name: babies, dtype: int64"
            ]
          },
          "metadata": {
            "tags": []
          },
          "execution_count": 18
        }
      ]
    },
    {
      "cell_type": "code",
      "metadata": {
        "id": "iPEfgxL9tu4N",
        "colab_type": "code",
        "outputId": "3a46213d-7d6c-4402-b0fe-5365711bd635",
        "colab": {
          "base_uri": "https://localhost:8080/",
          "height": 119
        }
      },
      "source": [
        "booking['meal'].value_counts()"
      ],
      "execution_count": 19,
      "outputs": [
        {
          "output_type": "execute_result",
          "data": {
            "text/plain": [
              "BB           92310\n",
              "HB           14463\n",
              "SC           10650\n",
              "Undefined     1169\n",
              "FB             798\n",
              "Name: meal, dtype: int64"
            ]
          },
          "metadata": {
            "tags": []
          },
          "execution_count": 19
        }
      ]
    },
    {
      "cell_type": "code",
      "metadata": {
        "id": "w671JmfZtx-M",
        "colab_type": "code",
        "outputId": "431e47e3-052f-425f-f76a-5246b53b8f02",
        "colab": {
          "base_uri": "https://localhost:8080/",
          "height": 221
        }
      },
      "source": [
        "booking['country'].value_counts()"
      ],
      "execution_count": 20,
      "outputs": [
        {
          "output_type": "execute_result",
          "data": {
            "text/plain": [
              "PRT    48590\n",
              "GBR    12129\n",
              "FRA    10415\n",
              "ESP     8568\n",
              "DEU     7287\n",
              "       ...  \n",
              "HND        1\n",
              "BDI        1\n",
              "MRT        1\n",
              "MDG        1\n",
              "DJI        1\n",
              "Name: country, Length: 177, dtype: int64"
            ]
          },
          "metadata": {
            "tags": []
          },
          "execution_count": 20
        }
      ]
    },
    {
      "cell_type": "code",
      "metadata": {
        "id": "MzZ4AWQUuEhH",
        "colab_type": "code",
        "outputId": "185d01ab-b49d-4767-a67b-958354ecc373",
        "colab": {
          "base_uri": "https://localhost:8080/",
          "height": 170
        }
      },
      "source": [
        "booking['market_segment'].value_counts()"
      ],
      "execution_count": 21,
      "outputs": [
        {
          "output_type": "execute_result",
          "data": {
            "text/plain": [
              "Online TA        56477\n",
              "Offline TA/TO    24219\n",
              "Groups           19811\n",
              "Direct           12606\n",
              "Corporate         5295\n",
              "Complementary      743\n",
              "Aviation           237\n",
              "Undefined            2\n",
              "Name: market_segment, dtype: int64"
            ]
          },
          "metadata": {
            "tags": []
          },
          "execution_count": 21
        }
      ]
    },
    {
      "cell_type": "code",
      "metadata": {
        "id": "wSQysWC2uEw2",
        "colab_type": "code",
        "outputId": "6869179c-08a1-435c-8ac6-4c4376326d78",
        "colab": {
          "base_uri": "https://localhost:8080/",
          "height": 119
        }
      },
      "source": [
        "booking['distribution_channel'].value_counts()"
      ],
      "execution_count": 22,
      "outputs": [
        {
          "output_type": "execute_result",
          "data": {
            "text/plain": [
              "TA/TO        97870\n",
              "Direct       14645\n",
              "Corporate     6677\n",
              "GDS            193\n",
              "Undefined        5\n",
              "Name: distribution_channel, dtype: int64"
            ]
          },
          "metadata": {
            "tags": []
          },
          "execution_count": 22
        }
      ]
    },
    {
      "cell_type": "code",
      "metadata": {
        "id": "oV3oU_N1uE5R",
        "colab_type": "code",
        "outputId": "b3e0cdfa-4806-48af-9b61-ecb053b16b06",
        "colab": {
          "base_uri": "https://localhost:8080/",
          "height": 68
        }
      },
      "source": [
        "booking['is_repeated_guest'].value_counts()"
      ],
      "execution_count": 23,
      "outputs": [
        {
          "output_type": "execute_result",
          "data": {
            "text/plain": [
              "0    115580\n",
              "1      3810\n",
              "Name: is_repeated_guest, dtype: int64"
            ]
          },
          "metadata": {
            "tags": []
          },
          "execution_count": 23
        }
      ]
    },
    {
      "cell_type": "code",
      "metadata": {
        "id": "jiZLglekuE-5",
        "colab_type": "code",
        "outputId": "bd4bc5d1-2447-4003-d123-9fe118a5ac28",
        "colab": {
          "base_uri": "https://localhost:8080/",
          "height": 289
        }
      },
      "source": [
        "booking['previous_cancellations'].value_counts()"
      ],
      "execution_count": 24,
      "outputs": [
        {
          "output_type": "execute_result",
          "data": {
            "text/plain": [
              "0     112906\n",
              "1       6051\n",
              "2        116\n",
              "3         65\n",
              "24        48\n",
              "11        35\n",
              "4         31\n",
              "26        26\n",
              "25        25\n",
              "6         22\n",
              "19        19\n",
              "5         19\n",
              "14        14\n",
              "13        12\n",
              "21         1\n",
              "Name: previous_cancellations, dtype: int64"
            ]
          },
          "metadata": {
            "tags": []
          },
          "execution_count": 24
        }
      ]
    },
    {
      "cell_type": "code",
      "metadata": {
        "id": "11lNQp_muFK4",
        "colab_type": "code",
        "outputId": "f3fd5e3b-a932-4ac3-b021-97759944ff75",
        "colab": {
          "base_uri": "https://localhost:8080/",
          "height": 221
        }
      },
      "source": [
        "booking['previous_bookings_not_canceled'].value_counts()"
      ],
      "execution_count": 25,
      "outputs": [
        {
          "output_type": "execute_result",
          "data": {
            "text/plain": [
              "0     115770\n",
              "1       1542\n",
              "2        580\n",
              "3        333\n",
              "4        229\n",
              "       ...  \n",
              "47         1\n",
              "36         1\n",
              "49         1\n",
              "50         1\n",
              "63         1\n",
              "Name: previous_bookings_not_canceled, Length: 73, dtype: int64"
            ]
          },
          "metadata": {
            "tags": []
          },
          "execution_count": 25
        }
      ]
    },
    {
      "cell_type": "code",
      "metadata": {
        "id": "RMCZ2S2lupE6",
        "colab_type": "code",
        "outputId": "c8a8b284-4b05-4fba-e82d-c76a9b6a7ff2",
        "colab": {
          "base_uri": "https://localhost:8080/",
          "height": 204
        }
      },
      "source": [
        "booking['reserved_room_type'].value_counts()"
      ],
      "execution_count": 26,
      "outputs": [
        {
          "output_type": "execute_result",
          "data": {
            "text/plain": [
              "A    85994\n",
              "D    19201\n",
              "E     6535\n",
              "F     2897\n",
              "G     2094\n",
              "B     1118\n",
              "C      932\n",
              "H      601\n",
              "P       12\n",
              "L        6\n",
              "Name: reserved_room_type, dtype: int64"
            ]
          },
          "metadata": {
            "tags": []
          },
          "execution_count": 26
        }
      ]
    },
    {
      "cell_type": "code",
      "metadata": {
        "id": "HwrriTMDupOm",
        "colab_type": "code",
        "outputId": "829ea0e7-629b-49b4-f2f8-3b7c275e5692",
        "colab": {
          "base_uri": "https://localhost:8080/",
          "height": 238
        }
      },
      "source": [
        "booking['assigned_room_type'].value_counts()"
      ],
      "execution_count": 27,
      "outputs": [
        {
          "output_type": "execute_result",
          "data": {
            "text/plain": [
              "A    74053\n",
              "D    25322\n",
              "E     7806\n",
              "F     3751\n",
              "G     2553\n",
              "C     2375\n",
              "B     2163\n",
              "H      712\n",
              "I      363\n",
              "K      279\n",
              "P       12\n",
              "L        1\n",
              "Name: assigned_room_type, dtype: int64"
            ]
          },
          "metadata": {
            "tags": []
          },
          "execution_count": 27
        }
      ]
    },
    {
      "cell_type": "code",
      "metadata": {
        "id": "yIebi5QCupVs",
        "colab_type": "code",
        "outputId": "853c8f78-1952-4bc2-9a65-75ff7a24d61d",
        "colab": {
          "base_uri": "https://localhost:8080/",
          "height": 391
        }
      },
      "source": [
        "booking['booking_changes'].value_counts()"
      ],
      "execution_count": 28,
      "outputs": [
        {
          "output_type": "execute_result",
          "data": {
            "text/plain": [
              "0     101314\n",
              "1      12701\n",
              "2       3805\n",
              "3        927\n",
              "4        376\n",
              "5        118\n",
              "6         63\n",
              "7         31\n",
              "8         17\n",
              "9          8\n",
              "10         6\n",
              "13         5\n",
              "14         5\n",
              "15         3\n",
              "11         2\n",
              "12         2\n",
              "16         2\n",
              "17         2\n",
              "20         1\n",
              "18         1\n",
              "21         1\n",
              "Name: booking_changes, dtype: int64"
            ]
          },
          "metadata": {
            "tags": []
          },
          "execution_count": 28
        }
      ]
    },
    {
      "cell_type": "code",
      "metadata": {
        "id": "kad0Q16vupbS",
        "colab_type": "code",
        "outputId": "5d998974-961f-486e-ef73-40a8d95a1cb1",
        "colab": {
          "base_uri": "https://localhost:8080/",
          "height": 85
        }
      },
      "source": [
        "booking['deposit_type'].value_counts()"
      ],
      "execution_count": 29,
      "outputs": [
        {
          "output_type": "execute_result",
          "data": {
            "text/plain": [
              "No Deposit    104641\n",
              "Non Refund     14587\n",
              "Refundable       162\n",
              "Name: deposit_type, dtype: int64"
            ]
          },
          "metadata": {
            "tags": []
          },
          "execution_count": 29
        }
      ]
    },
    {
      "cell_type": "code",
      "metadata": {
        "id": "Mjk1emK2upkQ",
        "colab_type": "code",
        "outputId": "27e77e89-696b-420c-fcfa-2c479644eaa2",
        "colab": {
          "base_uri": "https://localhost:8080/",
          "height": 221
        }
      },
      "source": [
        "booking['agent'].value_counts()"
      ],
      "execution_count": 30,
      "outputs": [
        {
          "output_type": "execute_result",
          "data": {
            "text/plain": [
              "9.0      31961\n",
              "240.0    13922\n",
              "1.0       7191\n",
              "14.0      3640\n",
              "7.0       3539\n",
              "         ...  \n",
              "213.0        1\n",
              "433.0        1\n",
              "197.0        1\n",
              "367.0        1\n",
              "337.0        1\n",
              "Name: agent, Length: 333, dtype: int64"
            ]
          },
          "metadata": {
            "tags": []
          },
          "execution_count": 30
        }
      ]
    },
    {
      "cell_type": "code",
      "metadata": {
        "id": "CDJpnOSguqFL",
        "colab_type": "code",
        "outputId": "fc43e15b-ab29-4d81-c1a0-bb8232438474",
        "colab": {
          "base_uri": "https://localhost:8080/",
          "height": 221
        }
      },
      "source": [
        "booking['company'].value_counts()"
      ],
      "execution_count": 31,
      "outputs": [
        {
          "output_type": "execute_result",
          "data": {
            "text/plain": [
              "40.0     927\n",
              "223.0    784\n",
              "67.0     267\n",
              "45.0     250\n",
              "153.0    215\n",
              "        ... \n",
              "229.0      1\n",
              "213.0      1\n",
              "416.0      1\n",
              "320.0      1\n",
              "461.0      1\n",
              "Name: company, Length: 352, dtype: int64"
            ]
          },
          "metadata": {
            "tags": []
          },
          "execution_count": 31
        }
      ]
    },
    {
      "cell_type": "code",
      "metadata": {
        "id": "yRvrlNh2vLtu",
        "colab_type": "code",
        "outputId": "9a8fcfe9-ea9c-4b63-e8d0-dff73e028aa5",
        "colab": {
          "base_uri": "https://localhost:8080/",
          "height": 221
        }
      },
      "source": [
        "booking['days_in_waiting_list'].value_counts()"
      ],
      "execution_count": 32,
      "outputs": [
        {
          "output_type": "execute_result",
          "data": {
            "text/plain": [
              "0      115692\n",
              "39        227\n",
              "58        164\n",
              "44        141\n",
              "31        127\n",
              "        ...  \n",
              "175         1\n",
              "117         1\n",
              "89          1\n",
              "92          1\n",
              "183         1\n",
              "Name: days_in_waiting_list, Length: 128, dtype: int64"
            ]
          },
          "metadata": {
            "tags": []
          },
          "execution_count": 32
        }
      ]
    },
    {
      "cell_type": "code",
      "metadata": {
        "id": "_MKh4w9_vL0f",
        "colab_type": "code",
        "outputId": "90d2e826-791b-4974-8e1d-e9b9009fdbc6",
        "colab": {
          "base_uri": "https://localhost:8080/",
          "height": 102
        }
      },
      "source": [
        "booking['customer_type'].value_counts()"
      ],
      "execution_count": 33,
      "outputs": [
        {
          "output_type": "execute_result",
          "data": {
            "text/plain": [
              "Transient          89613\n",
              "Transient-Party    25124\n",
              "Contract            4076\n",
              "Group                577\n",
              "Name: customer_type, dtype: int64"
            ]
          },
          "metadata": {
            "tags": []
          },
          "execution_count": 33
        }
      ]
    },
    {
      "cell_type": "code",
      "metadata": {
        "id": "TCFZqW94vL7o",
        "colab_type": "code",
        "outputId": "05e1580c-f60e-462a-c82f-a7b3c3be6c51",
        "colab": {
          "base_uri": "https://localhost:8080/",
          "height": 221
        }
      },
      "source": [
        "booking['adr'].value_counts()"
      ],
      "execution_count": 110,
      "outputs": [
        {
          "output_type": "execute_result",
          "data": {
            "text/plain": [
              "62.00     3754\n",
              "75.00     2715\n",
              "90.00     2473\n",
              "65.00     2418\n",
              "0.00      1959\n",
              "          ... \n",
              "202.74       1\n",
              "87.64        1\n",
              "69.83        1\n",
              "160.83       1\n",
              "35.64        1\n",
              "Name: adr, Length: 8879, dtype: int64"
            ]
          },
          "metadata": {
            "tags": []
          },
          "execution_count": 110
        }
      ]
    },
    {
      "cell_type": "code",
      "metadata": {
        "id": "0LqNhBflvMJk",
        "colab_type": "code",
        "outputId": "22bf6bf2-15c5-4ee3-fd84-e276f31e4023",
        "colab": {
          "base_uri": "https://localhost:8080/",
          "height": 119
        }
      },
      "source": [
        "booking['required_car_parking_spaces'].value_counts()"
      ],
      "execution_count": 35,
      "outputs": [
        {
          "output_type": "execute_result",
          "data": {
            "text/plain": [
              "0    111974\n",
              "1      7383\n",
              "2        28\n",
              "3         3\n",
              "8         2\n",
              "Name: required_car_parking_spaces, dtype: int64"
            ]
          },
          "metadata": {
            "tags": []
          },
          "execution_count": 35
        }
      ]
    },
    {
      "cell_type": "code",
      "metadata": {
        "id": "_DN5CgAUvMSD",
        "colab_type": "code",
        "outputId": "5dc7a6e5-9449-47f1-91ce-7ee28eba6b31",
        "colab": {
          "base_uri": "https://localhost:8080/",
          "height": 136
        }
      },
      "source": [
        "booking['total_of_special_requests'].value_counts()"
      ],
      "execution_count": 36,
      "outputs": [
        {
          "output_type": "execute_result",
          "data": {
            "text/plain": [
              "0    70318\n",
              "1    33226\n",
              "2    12969\n",
              "3     2497\n",
              "4      340\n",
              "5       40\n",
              "Name: total_of_special_requests, dtype: int64"
            ]
          },
          "metadata": {
            "tags": []
          },
          "execution_count": 36
        }
      ]
    },
    {
      "cell_type": "code",
      "metadata": {
        "id": "xUvVr4a1vMaO",
        "colab_type": "code",
        "outputId": "23a0c8d0-e565-4843-e84c-7eb1204af0b9",
        "colab": {
          "base_uri": "https://localhost:8080/",
          "height": 85
        }
      },
      "source": [
        "booking['reservation_status'].value_counts()"
      ],
      "execution_count": 37,
      "outputs": [
        {
          "output_type": "execute_result",
          "data": {
            "text/plain": [
              "Check-Out    75166\n",
              "Canceled     43017\n",
              "No-Show       1207\n",
              "Name: reservation_status, dtype: int64"
            ]
          },
          "metadata": {
            "tags": []
          },
          "execution_count": 37
        }
      ]
    },
    {
      "cell_type": "code",
      "metadata": {
        "id": "59l3jkXivMjM",
        "colab_type": "code",
        "outputId": "b99477e3-520b-4c78-e745-fade4f47a147",
        "colab": {
          "base_uri": "https://localhost:8080/",
          "height": 221
        }
      },
      "source": [
        "booking['reservation_status_date'].value_counts()"
      ],
      "execution_count": 38,
      "outputs": [
        {
          "output_type": "execute_result",
          "data": {
            "text/plain": [
              "2015-10-21    1461\n",
              "2015-07-06     805\n",
              "2016-11-25     790\n",
              "2015-01-01     763\n",
              "2016-01-18     625\n",
              "              ... \n",
              "2015-01-28       1\n",
              "2015-04-21       1\n",
              "2015-04-27       1\n",
              "2015-02-27       1\n",
              "2015-03-18       1\n",
              "Name: reservation_status_date, Length: 926, dtype: int64"
            ]
          },
          "metadata": {
            "tags": []
          },
          "execution_count": 38
        }
      ]
    },
    {
      "cell_type": "markdown",
      "metadata": {
        "id": "h3P-joIM3WnL",
        "colab_type": "text"
      },
      "source": [
        "**Correlación entre Variables**\n",
        "\n",
        "Análisis de Variables Numéricas"
      ]
    },
    {
      "cell_type": "code",
      "metadata": {
        "id": "5UqGQpBGUeN4",
        "colab_type": "code",
        "outputId": "f3a1e81d-677a-4fe7-de7b-ec7c50d1f876",
        "colab": {
          "base_uri": "https://localhost:8080/",
          "height": 34
        }
      },
      "source": [
        "from scipy import stats\n",
        "import sys\n",
        "import scipy\n",
        "import sklearn\n",
        "\n",
        "stats.pointbiserialr(np.array(booking['is_canceled']), np.array(booking['lead_time']))"
      ],
      "execution_count": 43,
      "outputs": [
        {
          "output_type": "execute_result",
          "data": {
            "text/plain": [
              "PointbiserialrResult(correlation=0.2931233557607162, pvalue=0.0)"
            ]
          },
          "metadata": {
            "tags": []
          },
          "execution_count": 43
        }
      ]
    },
    {
      "cell_type": "code",
      "metadata": {
        "id": "Fh2pn_GqVSDy",
        "colab_type": "code",
        "outputId": "ad233562-ad1b-42f5-c904-fb35fbd9a52e",
        "colab": {
          "base_uri": "https://localhost:8080/",
          "height": 34
        }
      },
      "source": [
        "stats.pointbiserialr(booking['is_canceled'], booking['lead_time'])"
      ],
      "execution_count": 44,
      "outputs": [
        {
          "output_type": "execute_result",
          "data": {
            "text/plain": [
              "PointbiserialrResult(correlation=0.2931233557607162, pvalue=0.0)"
            ]
          },
          "metadata": {
            "tags": []
          },
          "execution_count": 44
        }
      ]
    },
    {
      "cell_type": "code",
      "metadata": {
        "id": "qM2xTng1Vwu2",
        "colab_type": "code",
        "outputId": "1b79af25-90a2-4aae-e444-c74491cffe8b",
        "colab": {
          "base_uri": "https://localhost:8080/",
          "height": 34
        }
      },
      "source": [
        "stats.pointbiserialr(booking['is_canceled'],booking['arrival_date_year'])"
      ],
      "execution_count": 45,
      "outputs": [
        {
          "output_type": "execute_result",
          "data": {
            "text/plain": [
              "PointbiserialrResult(correlation=0.016659860238730735, pvalue=8.572485641768501e-09)"
            ]
          },
          "metadata": {
            "tags": []
          },
          "execution_count": 45
        }
      ]
    },
    {
      "cell_type": "code",
      "metadata": {
        "id": "0dB_mlJ9acq3",
        "colab_type": "code",
        "outputId": "f4166566-142e-4a1e-e128-ce67804e5dbb",
        "colab": {
          "base_uri": "https://localhost:8080/",
          "height": 34
        }
      },
      "source": [
        "stats.pointbiserialr(booking['is_canceled'],booking['arrival_date_week_number'])"
      ],
      "execution_count": 46,
      "outputs": [
        {
          "output_type": "execute_result",
          "data": {
            "text/plain": [
              "PointbiserialrResult(correlation=0.008148065395053026, pvalue=0.0048715536405101656)"
            ]
          },
          "metadata": {
            "tags": []
          },
          "execution_count": 46
        }
      ]
    },
    {
      "cell_type": "code",
      "metadata": {
        "id": "O3Ar82qnalOo",
        "colab_type": "code",
        "outputId": "369df47e-91ee-4b90-febb-c32b155c0771",
        "colab": {
          "base_uri": "https://localhost:8080/",
          "height": 34
        }
      },
      "source": [
        "stats.pointbiserialr(booking['is_canceled'],booking['arrival_date_day_of_month'])"
      ],
      "execution_count": 47,
      "outputs": [
        {
          "output_type": "execute_result",
          "data": {
            "text/plain": [
              "PointbiserialrResult(correlation=-0.006130078862758568, pvalue=0.03416531503784058)"
            ]
          },
          "metadata": {
            "tags": []
          },
          "execution_count": 47
        }
      ]
    },
    {
      "cell_type": "code",
      "metadata": {
        "id": "iHFqteyXaql9",
        "colab_type": "code",
        "outputId": "8c259418-bcfb-4123-ff99-c5d21140e64d",
        "colab": {
          "base_uri": "https://localhost:8080/",
          "height": 34
        }
      },
      "source": [
        "stats.pointbiserialr(booking['is_canceled'],booking['stays_in_weekend_nights'])"
      ],
      "execution_count": 48,
      "outputs": [
        {
          "output_type": "execute_result",
          "data": {
            "text/plain": [
              "PointbiserialrResult(correlation=-0.0017910780782606065, pvalue=0.5360068239297147)"
            ]
          },
          "metadata": {
            "tags": []
          },
          "execution_count": 48
        }
      ]
    },
    {
      "cell_type": "code",
      "metadata": {
        "id": "vC9h_znga0fS",
        "colab_type": "code",
        "outputId": "e662416a-49d9-490a-af58-daf944c9f126",
        "colab": {
          "base_uri": "https://localhost:8080/",
          "height": 34
        }
      },
      "source": [
        "stats.pointbiserialr(booking['is_canceled'],booking['stays_in_week_nights'])"
      ],
      "execution_count": 49,
      "outputs": [
        {
          "output_type": "execute_result",
          "data": {
            "text/plain": [
              "PointbiserialrResult(correlation=0.02476462904587326, pvalue=1.1473295419036277e-17)"
            ]
          },
          "metadata": {
            "tags": []
          },
          "execution_count": 49
        }
      ]
    },
    {
      "cell_type": "code",
      "metadata": {
        "id": "iavWjiLVa6yX",
        "colab_type": "code",
        "outputId": "9cf8060d-cad0-430d-a2bb-7aa22b3b18fc",
        "colab": {
          "base_uri": "https://localhost:8080/",
          "height": 34
        }
      },
      "source": [
        "stats.pointbiserialr(booking['is_canceled'],booking['adults'])"
      ],
      "execution_count": 50,
      "outputs": [
        {
          "output_type": "execute_result",
          "data": {
            "text/plain": [
              "PointbiserialrResult(correlation=0.06001721283956882, pvalue=1.0785654471810974e-95)"
            ]
          },
          "metadata": {
            "tags": []
          },
          "execution_count": 50
        }
      ]
    },
    {
      "cell_type": "code",
      "metadata": {
        "id": "G6NYktBXa-jX",
        "colab_type": "code",
        "outputId": "c48c7557-787b-4e84-93a3-be61d98abe09",
        "colab": {
          "base_uri": "https://localhost:8080/",
          "height": 34
        }
      },
      "source": [
        "booking['children'].fillna(0, inplace=True)\n",
        "stats.pointbiserialr(booking['is_canceled'],booking['children'])"
      ],
      "execution_count": 51,
      "outputs": [
        {
          "output_type": "execute_result",
          "data": {
            "text/plain": [
              "PointbiserialrResult(correlation=0.005036254836440518, pvalue=0.08183043560135574)"
            ]
          },
          "metadata": {
            "tags": []
          },
          "execution_count": 51
        }
      ]
    },
    {
      "cell_type": "code",
      "metadata": {
        "id": "W-FVjUbLbHVz",
        "colab_type": "code",
        "outputId": "2091b417-2f64-4748-e67b-658840c783e5",
        "colab": {
          "base_uri": "https://localhost:8080/",
          "height": 34
        }
      },
      "source": [
        "stats.pointbiserialr(booking['is_canceled'],booking['babies'])"
      ],
      "execution_count": 52,
      "outputs": [
        {
          "output_type": "execute_result",
          "data": {
            "text/plain": [
              "PointbiserialrResult(correlation=-0.03249108920832976, pvalue=2.9230235129369874e-29)"
            ]
          },
          "metadata": {
            "tags": []
          },
          "execution_count": 52
        }
      ]
    },
    {
      "cell_type": "code",
      "metadata": {
        "id": "toMrb-3Ibg6c",
        "colab_type": "code",
        "outputId": "7a78a207-ad03-4831-b428-a920bf0b0706",
        "colab": {
          "base_uri": "https://localhost:8080/",
          "height": 34
        }
      },
      "source": [
        "stats.pointbiserialr(booking['is_canceled'],booking['previous_cancellations'])"
      ],
      "execution_count": 53,
      "outputs": [
        {
          "output_type": "execute_result",
          "data": {
            "text/plain": [
              "PointbiserialrResult(correlation=0.11013280822284863, pvalue=8.9327e-319)"
            ]
          },
          "metadata": {
            "tags": []
          },
          "execution_count": 53
        }
      ]
    },
    {
      "cell_type": "code",
      "metadata": {
        "id": "2VztJQTHbokK",
        "colab_type": "code",
        "outputId": "0499597f-e568-4c71-ce28-e3d0dc75f9f7",
        "colab": {
          "base_uri": "https://localhost:8080/",
          "height": 34
        }
      },
      "source": [
        "stats.pointbiserialr(booking['is_canceled'],booking['previous_bookings_not_canceled'])"
      ],
      "execution_count": 54,
      "outputs": [
        {
          "output_type": "execute_result",
          "data": {
            "text/plain": [
              "PointbiserialrResult(correlation=-0.05735772316595324, pvalue=1.4894651919151278e-87)"
            ]
          },
          "metadata": {
            "tags": []
          },
          "execution_count": 54
        }
      ]
    },
    {
      "cell_type": "code",
      "metadata": {
        "id": "8blaYz5eb0OB",
        "colab_type": "code",
        "outputId": "1b67a87f-4d6b-49fb-fec1-f95362e32d8b",
        "colab": {
          "base_uri": "https://localhost:8080/",
          "height": 34
        }
      },
      "source": [
        "stats.pointbiserialr(booking['is_canceled'],booking['booking_changes'])"
      ],
      "execution_count": 55,
      "outputs": [
        {
          "output_type": "execute_result",
          "data": {
            "text/plain": [
              "PointbiserialrResult(correlation=-0.14438099106133415, pvalue=0.0)"
            ]
          },
          "metadata": {
            "tags": []
          },
          "execution_count": 55
        }
      ]
    },
    {
      "cell_type": "code",
      "metadata": {
        "id": "Qf6gApSGb6Ny",
        "colab_type": "code",
        "outputId": "3e355341-9d75-48b5-981e-479646b7acb6",
        "colab": {
          "base_uri": "https://localhost:8080/",
          "height": 34
        }
      },
      "source": [
        "stats.pointbiserialr(booking['is_canceled'],booking['days_in_waiting_list'])"
      ],
      "execution_count": 56,
      "outputs": [
        {
          "output_type": "execute_result",
          "data": {
            "text/plain": [
              "PointbiserialrResult(correlation=0.05418582411778196, pvalue=2.5035682687162816e-78)"
            ]
          },
          "metadata": {
            "tags": []
          },
          "execution_count": 56
        }
      ]
    },
    {
      "cell_type": "code",
      "metadata": {
        "id": "e9-rVW6EcAjj",
        "colab_type": "code",
        "outputId": "d65ebdf8-0da1-4cc5-9702-c166d142a391",
        "colab": {
          "base_uri": "https://localhost:8080/",
          "height": 34
        }
      },
      "source": [
        "stats.pointbiserialr(booking['is_canceled'],booking['adr'])"
      ],
      "execution_count": 57,
      "outputs": [
        {
          "output_type": "execute_result",
          "data": {
            "text/plain": [
              "PointbiserialrResult(correlation=0.04755659788038588, pvalue=9.68293417989299e-61)"
            ]
          },
          "metadata": {
            "tags": []
          },
          "execution_count": 57
        }
      ]
    },
    {
      "cell_type": "code",
      "metadata": {
        "id": "7TyC913acFAB",
        "colab_type": "code",
        "outputId": "0a4a45f2-d357-4cd5-ffe5-be19f2eed06d",
        "colab": {
          "base_uri": "https://localhost:8080/",
          "height": 34
        }
      },
      "source": [
        "stats.pointbiserialr(booking['is_canceled'],booking['required_car_parking_spaces'])"
      ],
      "execution_count": 58,
      "outputs": [
        {
          "output_type": "execute_result",
          "data": {
            "text/plain": [
              "PointbiserialrResult(correlation=-0.19549781749450534, pvalue=0.0)"
            ]
          },
          "metadata": {
            "tags": []
          },
          "execution_count": 58
        }
      ]
    },
    {
      "cell_type": "code",
      "metadata": {
        "id": "d04f4ZiHcTG2",
        "colab_type": "code",
        "outputId": "0b3b320f-bcdb-45bd-a468-2178368b7f9b",
        "colab": {
          "base_uri": "https://localhost:8080/",
          "height": 34
        }
      },
      "source": [
        "stats.pointbiserialr(booking['is_canceled'],booking['total_of_special_requests'])"
      ],
      "execution_count": 59,
      "outputs": [
        {
          "output_type": "execute_result",
          "data": {
            "text/plain": [
              "PointbiserialrResult(correlation=-0.23465777396902687, pvalue=0.0)"
            ]
          },
          "metadata": {
            "tags": []
          },
          "execution_count": 59
        }
      ]
    },
    {
      "cell_type": "markdown",
      "metadata": {
        "id": "qlBHJhRViFAl",
        "colab_type": "text"
      },
      "source": [
        "Evaluación Variables Categóricas con método chi cuadrado"
      ]
    },
    {
      "cell_type": "code",
      "metadata": {
        "id": "Vmn3B4KOiLvV",
        "colab_type": "code",
        "outputId": "b376c68f-7e5d-4949-a25d-f7400fc680f3",
        "colab": {
          "base_uri": "https://localhost:8080/",
          "height": 34
        }
      },
      "source": [
        "import sys\n",
        "import numpy as np\n",
        "import scipy\n",
        "from scipy import stats\n",
        "\n",
        "table1= pd.crosstab(booking['hotel'],  \n",
        "                            booking['is_canceled'], \n",
        "                                margins = False) \n",
        "data1=table1.values.T\n",
        "\n",
        "stat, p, dof, expected = stats.chi2_contingency(data1)\n",
        "prob = 0.95\n",
        "critical = stats.chi2.ppf(prob, dof)\n",
        "print('probability=%.3f, critical=%.3f, statochi2=%.3f, pvalor=%.3f, gradosdelibertad=%.3f' % (prob, critical, stat, p, dof))\n"
      ],
      "execution_count": 65,
      "outputs": [
        {
          "output_type": "stream",
          "text": [
            "probability=0.950, critical=3.841, statochi2=2224.925, pvalor=0.000, gradosdelibertad=1.000\n"
          ],
          "name": "stdout"
        }
      ]
    },
    {
      "cell_type": "code",
      "metadata": {
        "id": "sUUDnMxAAYdD",
        "colab_type": "code",
        "outputId": "1808304f-cb27-4ae0-fda4-a810cdf04e65",
        "colab": {
          "base_uri": "https://localhost:8080/",
          "height": 34
        }
      },
      "source": [
        "table2= pd.crosstab(booking['arrival_date_month'],  \n",
        "                            booking['is_canceled'], \n",
        "                                margins = False) \n",
        "data2=table2.values.T\n",
        "stat, p, dof, expected = stats.chi2_contingency(data2)\n",
        "prob = 0.95\n",
        "critical = stats.chi2.ppf(prob, dof)\n",
        "print('probability=%.3f, critical=%.3f, statochi2=%.3f, pvalor=%.3f, gradosdelibertad=%.3f' % (prob, critical, stat, p, dof))"
      ],
      "execution_count": 66,
      "outputs": [
        {
          "output_type": "stream",
          "text": [
            "probability=0.950, critical=19.675, statochi2=588.692, pvalor=0.000, gradosdelibertad=11.000\n"
          ],
          "name": "stdout"
        }
      ]
    },
    {
      "cell_type": "code",
      "metadata": {
        "id": "v9BlCBgEBL-w",
        "colab_type": "code",
        "outputId": "db29b5de-4251-4641-8ecd-d28a42dd6478",
        "colab": {
          "base_uri": "https://localhost:8080/",
          "height": 34
        }
      },
      "source": [
        "table3= pd.crosstab(booking['meal'],  \n",
        "                            booking['is_canceled'], \n",
        "                                margins = False) \n",
        "data3=table3.values.T\n",
        "stat, p, dof, expected = stats.chi2_contingency(data3)\n",
        "prob = 0.95\n",
        "critical = stats.chi2.ppf(prob, dof)\n",
        "print('probability=%.3f, critical=%.3f, statochi2=%.3f, pvalor=%.3f, gradosdelibertad=%.3f' % (prob, critical, stat, p, dof))"
      ],
      "execution_count": 68,
      "outputs": [
        {
          "output_type": "stream",
          "text": [
            "probability=0.950, critical=9.488, statochi2=304.236, pvalor=0.000, gradosdelibertad=4.000\n"
          ],
          "name": "stdout"
        }
      ]
    },
    {
      "cell_type": "code",
      "metadata": {
        "id": "1IN1eYL4BQdA",
        "colab_type": "code",
        "outputId": "be108a57-2114-495f-b47e-fbe2cbd3fd28",
        "colab": {
          "base_uri": "https://localhost:8080/",
          "height": 34
        }
      },
      "source": [
        "table4= pd.crosstab(booking['country'],  \n",
        "                            booking['is_canceled'], \n",
        "                                margins = False) \n",
        "data4=table4.values.T\n",
        "stat, p, dof, expected = stats.chi2_contingency(data4)\n",
        "prob = 0.95\n",
        "critical = stats.chi2.ppf(prob, dof)\n",
        "print('probability=%.3f, critical=%.3f, statochi2=%.3f, pvalor=%.3f, gradosdelibertad=%.3f' % (prob, critical, stat, p, dof))"
      ],
      "execution_count": 69,
      "outputs": [
        {
          "output_type": "stream",
          "text": [
            "probability=0.950, critical=207.955, statochi2=15434.682, pvalor=0.000, gradosdelibertad=176.000\n"
          ],
          "name": "stdout"
        }
      ]
    },
    {
      "cell_type": "code",
      "metadata": {
        "id": "J42U0_7YVYVA",
        "colab_type": "code",
        "outputId": "71e2bcc8-191b-44a1-8b67-337fb35911b0",
        "colab": {
          "base_uri": "https://localhost:8080/",
          "height": 34
        }
      },
      "source": [
        "table5= pd.crosstab(booking['market_segment'],  \n",
        "                            booking['is_canceled'], \n",
        "                                margins = False) \n",
        "data5=table5.values.T\n",
        "stat, p, dof, expected = stats.chi2_contingency(data5)\n",
        "prob = 0.95\n",
        "critical = stats.chi2.ppf(prob, dof)\n",
        "print('probability=%.3f, critical=%.3f, statochi2=%.3f, pvalor=%.3f, gradosdelibertad=%.3f' % (prob, critical, stat, p, dof))\n"
      ],
      "execution_count": 70,
      "outputs": [
        {
          "output_type": "stream",
          "text": [
            "probability=0.950, critical=14.067, statochi2=8497.224, pvalor=0.000, gradosdelibertad=7.000\n"
          ],
          "name": "stdout"
        }
      ]
    },
    {
      "cell_type": "code",
      "metadata": {
        "id": "kApnArpubWkE",
        "colab_type": "code",
        "outputId": "8bf8d7e8-3bd1-4892-9121-9b25e019f55d",
        "colab": {
          "base_uri": "https://localhost:8080/",
          "height": 34
        }
      },
      "source": [
        "table6= pd.crosstab(booking['distribution_channel'],  \n",
        "                            booking['is_canceled'], \n",
        "                                margins = False) \n",
        "data6=table6.values.T\n",
        "stat, p, dof, expected = stats.chi2_contingency(data6)\n",
        "prob = 0.95\n",
        "critical = stats.chi2.ppf(prob, dof)\n",
        "print('probability=%.3f, critical=%.3f, statochi2=%.3f, pvalor=%.3f, gradosdelibertad=%.3f' % (prob, critical, stat, p, dof))"
      ],
      "execution_count": 71,
      "outputs": [
        {
          "output_type": "stream",
          "text": [
            "probability=0.950, critical=9.488, statochi2=3745.794, pvalor=0.000, gradosdelibertad=4.000\n"
          ],
          "name": "stdout"
        }
      ]
    },
    {
      "cell_type": "code",
      "metadata": {
        "id": "0ku0oG7DbjWv",
        "colab_type": "code",
        "outputId": "9aee4b58-198c-43d8-9274-c472627a7dad",
        "colab": {
          "base_uri": "https://localhost:8080/",
          "height": 34
        }
      },
      "source": [
        "table7= pd.crosstab(booking['is_repeated_guest'],  \n",
        "                            booking['is_canceled'], \n",
        "                                margins = False) \n",
        "data7=table7.values.T\n",
        "stat, p, dof, expected = stats.chi2_contingency(data7)\n",
        "prob = 0.95\n",
        "critical = stats.chi2.ppf(prob, dof)\n",
        "print('probability=%.3f, critical=%.3f, statochi2=%.3f, pvalor=%.3f, gradosdelibertad=%.3f' % (prob, critical, stat, p, dof))"
      ],
      "execution_count": 72,
      "outputs": [
        {
          "output_type": "stream",
          "text": [
            "probability=0.950, critical=3.841, statochi2=857.406, pvalor=0.000, gradosdelibertad=1.000\n"
          ],
          "name": "stdout"
        }
      ]
    },
    {
      "cell_type": "code",
      "metadata": {
        "id": "HEZxIG0Ub2L9",
        "colab_type": "code",
        "outputId": "35c14f55-be38-4196-a7a1-29f5dc310e45",
        "colab": {
          "base_uri": "https://localhost:8080/",
          "height": 34
        }
      },
      "source": [
        "table8= pd.crosstab(booking['reserved_room_type'],  \n",
        "                            booking['is_canceled'], \n",
        "                                margins = False) \n",
        "data8=table8.values.T\n",
        "stat, p, dof, expected = stats.chi2_contingency(data8)\n",
        "prob = 0.95\n",
        "critical = stats.chi2.ppf(prob, dof)\n",
        "print('probability=%.3f, critical=%.3f, statochi2=%.3f, pvalor=%.3f, gradosdelibertad=%.3f' % (prob, critical, stat, p, dof))"
      ],
      "execution_count": 0,
      "outputs": [
        {
          "output_type": "stream",
          "text": [
            "probability=0.950, critical=16.919, statochi2=296.930, pvalor=0.000, gradosdelibertad=9.000\n"
          ],
          "name": "stdout"
        }
      ]
    },
    {
      "cell_type": "code",
      "metadata": {
        "id": "m613dOL_b-2l",
        "colab_type": "code",
        "outputId": "7f0c541c-d402-46d4-eb93-08421e85c770",
        "colab": {
          "base_uri": "https://localhost:8080/",
          "height": 34
        }
      },
      "source": [
        "table9= pd.crosstab(booking['assigned_room_type'],  \n",
        "                            booking['is_canceled'], \n",
        "                                margins = False) \n",
        "data9=table9.values.T\n",
        "stat, p, dof, expected = stats.chi2_contingency(data9)\n",
        "prob = 0.95\n",
        "critical = stats.chi2.ppf(prob, dof)\n",
        "print('probability=%.3f, critical=%.3f, statochi2=%.3f, pvalor=%.3f, gradosdelibertad=%.3f' % (prob, critical, stat, p, dof))"
      ],
      "execution_count": 73,
      "outputs": [
        {
          "output_type": "stream",
          "text": [
            "probability=0.950, critical=19.675, statochi2=4918.693, pvalor=0.000, gradosdelibertad=11.000\n"
          ],
          "name": "stdout"
        }
      ]
    },
    {
      "cell_type": "code",
      "metadata": {
        "id": "u3R_416rcJfq",
        "colab_type": "code",
        "outputId": "da9e0962-1eeb-4b09-a0df-fc27dc955fd7",
        "colab": {
          "base_uri": "https://localhost:8080/",
          "height": 34
        }
      },
      "source": [
        "table10= pd.crosstab(booking['deposit_type'],  \n",
        "                            booking['is_canceled'], \n",
        "                                margins = False) \n",
        "data10=table10.values.T\n",
        "stat, p, dof, expected = stats.chi2_contingency(data10)\n",
        "prob = 0.95\n",
        "critical = stats.chi2.ppf(prob, dof)\n",
        "print('probability=%.3f, critical=%.3f, statochi2=%.3f, pvalor=%.3f, gradosdelibertad=%.3f' % (prob, critical, stat, p, dof))"
      ],
      "execution_count": 74,
      "outputs": [
        {
          "output_type": "stream",
          "text": [
            "probability=0.950, critical=5.991, statochi2=27677.329, pvalor=0.000, gradosdelibertad=2.000\n"
          ],
          "name": "stdout"
        }
      ]
    },
    {
      "cell_type": "code",
      "metadata": {
        "id": "IW1CuWfpeCcf",
        "colab_type": "code",
        "outputId": "bee365dc-9b93-494b-eb43-33cc9d43b467",
        "colab": {
          "base_uri": "https://localhost:8080/",
          "height": 34
        }
      },
      "source": [
        "table11= pd.crosstab(booking['customer_type'],  \n",
        "                            booking['is_canceled'], \n",
        "                                margins = False) \n",
        "data11=table11.values.T\n",
        "stat, p, dof, expected = stats.chi2_contingency(data11)\n",
        "prob = 0.95\n",
        "critical = stats.chi2.ppf(prob, dof)\n",
        "print('probability=%.3f, critical=%.3f, statochi2=%.3f, pvalor=%.3f, gradosdelibertad=%.3f' % (prob, critical, stat, p, dof))"
      ],
      "execution_count": 75,
      "outputs": [
        {
          "output_type": "stream",
          "text": [
            "probability=0.950, critical=7.815, statochi2=2222.504, pvalor=0.000, gradosdelibertad=3.000\n"
          ],
          "name": "stdout"
        }
      ]
    },
    {
      "cell_type": "code",
      "metadata": {
        "id": "bNL9ie9He8DT",
        "colab_type": "code",
        "outputId": "05a9a4a5-95d6-4183-bf58-f8cf0a19a063",
        "colab": {
          "base_uri": "https://localhost:8080/",
          "height": 34
        }
      },
      "source": [
        "\n",
        "\n",
        "table12= pd.crosstab(booking['reservation_status'],  \n",
        "                            booking['is_canceled'], \n",
        "                                margins = False) \n",
        "data12=table12.values.T\n",
        "stat, p, dof, expected = stats.chi2_contingency(data12)\n",
        "prob = 0.95\n",
        "critical = stats.chi2.ppf(prob,dof)\n",
        "print('probability=%.3f, critical=%.3f, statochi2=%.3f, pvalor=%.3f, gradosdelibertad=%.3f' % (prob, critical, stat, p, dof))\n"
      ],
      "execution_count": 76,
      "outputs": [
        {
          "output_type": "stream",
          "text": [
            "probability=0.950, critical=5.991, statochi2=119390.000, pvalor=0.000, gradosdelibertad=2.000\n"
          ],
          "name": "stdout"
        }
      ]
    },
    {
      "cell_type": "markdown",
      "metadata": {
        "id": "RzzqaAGRJyEm",
        "colab_type": "text"
      },
      "source": [
        "Matriz de Correlación entre todas las variables (Se convierten las variables categóricas en numéricas)\n",
        "\n"
      ]
    },
    {
      "cell_type": "code",
      "metadata": {
        "id": "FqzrAxeP0Txb",
        "colab_type": "code",
        "outputId": "bdd0e131-a211-4a2f-ffcb-7d9468a73fd8",
        "colab": {
          "base_uri": "https://localhost:8080/",
          "height": 680
        }
      },
      "source": [
        "from sklearn.preprocessing import LabelBinarizer, LabelEncoder, OneHotEncoder\n",
        "le = LabelEncoder()\n",
        "bookingcor = booking.copy()\n",
        "\n",
        "bookingcor['meal'] = le.fit_transform(bookingcor['meal'])\n",
        "bookingcor['distribution_channel'] = le.fit_transform(bookingcor['distribution_channel'])\n",
        "bookingcor['reserved_room_type'] = le.fit_transform(bookingcor['reserved_room_type'])\n",
        "bookingcor['assigned_room_type'] = le.fit_transform(bookingcor['assigned_room_type'])\n",
        "bookingcor['agent'] = le.fit_transform(bookingcor['agent'])\n",
        "bookingcor['company'] = le.fit_transform(bookingcor['company'])\n",
        "bookingcor['customer_type'] = le.fit_transform(bookingcor['customer_type'])\n",
        "bookingcor['deposit_type'] = le.fit_transform(bookingcor['deposit_type'])\n",
        "bookingcor['reservation_status'] = le.fit_transform(bookingcor['reservation_status'])\n",
        "bookingcor['market_segment'] = le.fit_transform(bookingcor['market_segment'])\n",
        "\n",
        "bookingcor.info (verbose=True)"
      ],
      "execution_count": 77,
      "outputs": [
        {
          "output_type": "stream",
          "text": [
            "<class 'pandas.core.frame.DataFrame'>\n",
            "RangeIndex: 119390 entries, 0 to 119389\n",
            "Data columns (total 32 columns):\n",
            " #   Column                          Non-Null Count   Dtype  \n",
            "---  ------                          --------------   -----  \n",
            " 0   hotel                           119390 non-null  object \n",
            " 1   is_canceled                     119390 non-null  int64  \n",
            " 2   lead_time                       119390 non-null  int64  \n",
            " 3   arrival_date_year               119390 non-null  int64  \n",
            " 4   arrival_date_month              119390 non-null  object \n",
            " 5   arrival_date_week_number        119390 non-null  int64  \n",
            " 6   arrival_date_day_of_month       119390 non-null  int64  \n",
            " 7   stays_in_weekend_nights         119390 non-null  int64  \n",
            " 8   stays_in_week_nights            119390 non-null  int64  \n",
            " 9   adults                          119390 non-null  int64  \n",
            " 10  children                        119390 non-null  float64\n",
            " 11  babies                          119390 non-null  int64  \n",
            " 12  meal                            119390 non-null  int64  \n",
            " 13  country                         118902 non-null  object \n",
            " 14  market_segment                  119390 non-null  int64  \n",
            " 15  distribution_channel            119390 non-null  int64  \n",
            " 16  is_repeated_guest               119390 non-null  int64  \n",
            " 17  previous_cancellations          119390 non-null  int64  \n",
            " 18  previous_bookings_not_canceled  119390 non-null  int64  \n",
            " 19  reserved_room_type              119390 non-null  int64  \n",
            " 20  assigned_room_type              119390 non-null  int64  \n",
            " 21  booking_changes                 119390 non-null  int64  \n",
            " 22  deposit_type                    119390 non-null  int64  \n",
            " 23  agent                           119390 non-null  int64  \n",
            " 24  company                         119390 non-null  int64  \n",
            " 25  days_in_waiting_list            119390 non-null  int64  \n",
            " 26  customer_type                   119390 non-null  int64  \n",
            " 27  adr                             119390 non-null  float64\n",
            " 28  required_car_parking_spaces     119390 non-null  int64  \n",
            " 29  total_of_special_requests       119390 non-null  int64  \n",
            " 30  reservation_status              119390 non-null  int64  \n",
            " 31  reservation_status_date         119390 non-null  object \n",
            "dtypes: float64(2), int64(26), object(4)\n",
            "memory usage: 29.1+ MB\n"
          ],
          "name": "stdout"
        }
      ]
    },
    {
      "cell_type": "code",
      "metadata": {
        "id": "P-VlY_821p8y",
        "colab_type": "code",
        "outputId": "34db09c7-b6b4-4970-f8b2-93a85c33d0a7",
        "colab": {
          "base_uri": "https://localhost:8080/",
          "height": 309
        }
      },
      "source": [
        "bookingcor.head()"
      ],
      "execution_count": 78,
      "outputs": [
        {
          "output_type": "execute_result",
          "data": {
            "text/html": [
              "<div>\n",
              "<style scoped>\n",
              "    .dataframe tbody tr th:only-of-type {\n",
              "        vertical-align: middle;\n",
              "    }\n",
              "\n",
              "    .dataframe tbody tr th {\n",
              "        vertical-align: top;\n",
              "    }\n",
              "\n",
              "    .dataframe thead th {\n",
              "        text-align: right;\n",
              "    }\n",
              "</style>\n",
              "<table border=\"1\" class=\"dataframe\">\n",
              "  <thead>\n",
              "    <tr style=\"text-align: right;\">\n",
              "      <th></th>\n",
              "      <th>hotel</th>\n",
              "      <th>is_canceled</th>\n",
              "      <th>lead_time</th>\n",
              "      <th>arrival_date_year</th>\n",
              "      <th>arrival_date_month</th>\n",
              "      <th>arrival_date_week_number</th>\n",
              "      <th>arrival_date_day_of_month</th>\n",
              "      <th>stays_in_weekend_nights</th>\n",
              "      <th>stays_in_week_nights</th>\n",
              "      <th>adults</th>\n",
              "      <th>children</th>\n",
              "      <th>babies</th>\n",
              "      <th>meal</th>\n",
              "      <th>country</th>\n",
              "      <th>market_segment</th>\n",
              "      <th>distribution_channel</th>\n",
              "      <th>is_repeated_guest</th>\n",
              "      <th>previous_cancellations</th>\n",
              "      <th>previous_bookings_not_canceled</th>\n",
              "      <th>reserved_room_type</th>\n",
              "      <th>assigned_room_type</th>\n",
              "      <th>booking_changes</th>\n",
              "      <th>deposit_type</th>\n",
              "      <th>agent</th>\n",
              "      <th>company</th>\n",
              "      <th>days_in_waiting_list</th>\n",
              "      <th>customer_type</th>\n",
              "      <th>adr</th>\n",
              "      <th>required_car_parking_spaces</th>\n",
              "      <th>total_of_special_requests</th>\n",
              "      <th>reservation_status</th>\n",
              "      <th>reservation_status_date</th>\n",
              "    </tr>\n",
              "  </thead>\n",
              "  <tbody>\n",
              "    <tr>\n",
              "      <th>0</th>\n",
              "      <td>Resort Hotel</td>\n",
              "      <td>0</td>\n",
              "      <td>342</td>\n",
              "      <td>2015</td>\n",
              "      <td>July</td>\n",
              "      <td>27</td>\n",
              "      <td>1</td>\n",
              "      <td>0</td>\n",
              "      <td>0</td>\n",
              "      <td>2</td>\n",
              "      <td>0.0</td>\n",
              "      <td>0</td>\n",
              "      <td>0</td>\n",
              "      <td>PRT</td>\n",
              "      <td>3</td>\n",
              "      <td>1</td>\n",
              "      <td>0</td>\n",
              "      <td>0</td>\n",
              "      <td>0</td>\n",
              "      <td>2</td>\n",
              "      <td>2</td>\n",
              "      <td>3</td>\n",
              "      <td>0</td>\n",
              "      <td>16672</td>\n",
              "      <td>11265</td>\n",
              "      <td>0</td>\n",
              "      <td>2</td>\n",
              "      <td>0.0</td>\n",
              "      <td>0</td>\n",
              "      <td>0</td>\n",
              "      <td>1</td>\n",
              "      <td>2015-07-01</td>\n",
              "    </tr>\n",
              "    <tr>\n",
              "      <th>1</th>\n",
              "      <td>Resort Hotel</td>\n",
              "      <td>0</td>\n",
              "      <td>737</td>\n",
              "      <td>2015</td>\n",
              "      <td>July</td>\n",
              "      <td>27</td>\n",
              "      <td>1</td>\n",
              "      <td>0</td>\n",
              "      <td>0</td>\n",
              "      <td>2</td>\n",
              "      <td>0.0</td>\n",
              "      <td>0</td>\n",
              "      <td>0</td>\n",
              "      <td>PRT</td>\n",
              "      <td>3</td>\n",
              "      <td>1</td>\n",
              "      <td>0</td>\n",
              "      <td>0</td>\n",
              "      <td>0</td>\n",
              "      <td>2</td>\n",
              "      <td>2</td>\n",
              "      <td>4</td>\n",
              "      <td>0</td>\n",
              "      <td>1126</td>\n",
              "      <td>74332</td>\n",
              "      <td>0</td>\n",
              "      <td>2</td>\n",
              "      <td>0.0</td>\n",
              "      <td>0</td>\n",
              "      <td>0</td>\n",
              "      <td>1</td>\n",
              "      <td>2015-07-01</td>\n",
              "    </tr>\n",
              "    <tr>\n",
              "      <th>2</th>\n",
              "      <td>Resort Hotel</td>\n",
              "      <td>0</td>\n",
              "      <td>7</td>\n",
              "      <td>2015</td>\n",
              "      <td>July</td>\n",
              "      <td>27</td>\n",
              "      <td>1</td>\n",
              "      <td>0</td>\n",
              "      <td>1</td>\n",
              "      <td>1</td>\n",
              "      <td>0.0</td>\n",
              "      <td>0</td>\n",
              "      <td>0</td>\n",
              "      <td>GBR</td>\n",
              "      <td>3</td>\n",
              "      <td>1</td>\n",
              "      <td>0</td>\n",
              "      <td>0</td>\n",
              "      <td>0</td>\n",
              "      <td>0</td>\n",
              "      <td>2</td>\n",
              "      <td>0</td>\n",
              "      <td>0</td>\n",
              "      <td>1117</td>\n",
              "      <td>74331</td>\n",
              "      <td>0</td>\n",
              "      <td>2</td>\n",
              "      <td>75.0</td>\n",
              "      <td>0</td>\n",
              "      <td>0</td>\n",
              "      <td>1</td>\n",
              "      <td>2015-07-02</td>\n",
              "    </tr>\n",
              "    <tr>\n",
              "      <th>3</th>\n",
              "      <td>Resort Hotel</td>\n",
              "      <td>0</td>\n",
              "      <td>13</td>\n",
              "      <td>2015</td>\n",
              "      <td>July</td>\n",
              "      <td>27</td>\n",
              "      <td>1</td>\n",
              "      <td>0</td>\n",
              "      <td>1</td>\n",
              "      <td>1</td>\n",
              "      <td>0.0</td>\n",
              "      <td>0</td>\n",
              "      <td>0</td>\n",
              "      <td>GBR</td>\n",
              "      <td>2</td>\n",
              "      <td>0</td>\n",
              "      <td>0</td>\n",
              "      <td>0</td>\n",
              "      <td>0</td>\n",
              "      <td>0</td>\n",
              "      <td>0</td>\n",
              "      <td>0</td>\n",
              "      <td>0</td>\n",
              "      <td>220</td>\n",
              "      <td>74330</td>\n",
              "      <td>0</td>\n",
              "      <td>2</td>\n",
              "      <td>75.0</td>\n",
              "      <td>0</td>\n",
              "      <td>0</td>\n",
              "      <td>1</td>\n",
              "      <td>2015-07-02</td>\n",
              "    </tr>\n",
              "    <tr>\n",
              "      <th>4</th>\n",
              "      <td>Resort Hotel</td>\n",
              "      <td>0</td>\n",
              "      <td>14</td>\n",
              "      <td>2015</td>\n",
              "      <td>July</td>\n",
              "      <td>27</td>\n",
              "      <td>1</td>\n",
              "      <td>0</td>\n",
              "      <td>2</td>\n",
              "      <td>2</td>\n",
              "      <td>0.0</td>\n",
              "      <td>0</td>\n",
              "      <td>0</td>\n",
              "      <td>GBR</td>\n",
              "      <td>6</td>\n",
              "      <td>3</td>\n",
              "      <td>0</td>\n",
              "      <td>0</td>\n",
              "      <td>0</td>\n",
              "      <td>0</td>\n",
              "      <td>0</td>\n",
              "      <td>0</td>\n",
              "      <td>0</td>\n",
              "      <td>173</td>\n",
              "      <td>74329</td>\n",
              "      <td>0</td>\n",
              "      <td>2</td>\n",
              "      <td>98.0</td>\n",
              "      <td>0</td>\n",
              "      <td>1</td>\n",
              "      <td>1</td>\n",
              "      <td>2015-07-03</td>\n",
              "    </tr>\n",
              "  </tbody>\n",
              "</table>\n",
              "</div>"
            ],
            "text/plain": [
              "          hotel  is_canceled  ...  reservation_status  reservation_status_date\n",
              "0  Resort Hotel            0  ...                   1               2015-07-01\n",
              "1  Resort Hotel            0  ...                   1               2015-07-01\n",
              "2  Resort Hotel            0  ...                   1               2015-07-02\n",
              "3  Resort Hotel            0  ...                   1               2015-07-02\n",
              "4  Resort Hotel            0  ...                   1               2015-07-03\n",
              "\n",
              "[5 rows x 32 columns]"
            ]
          },
          "metadata": {
            "tags": []
          },
          "execution_count": 78
        }
      ]
    },
    {
      "cell_type": "code",
      "metadata": {
        "id": "yQclsUh816fi",
        "colab_type": "code",
        "colab": {}
      },
      "source": [
        "bookingcor = bookingcor.drop(['hotel', 'arrival_date_month','country','reservation_status_date'], axis=1)"
      ],
      "execution_count": 0,
      "outputs": []
    },
    {
      "cell_type": "code",
      "metadata": {
        "id": "DPjJ6Yqi2u9V",
        "colab_type": "code",
        "outputId": "666c2190-149d-49ec-9aff-e72051096697",
        "colab": {
          "base_uri": "https://localhost:8080/",
          "height": 224
        }
      },
      "source": [
        "bookingcor.head()"
      ],
      "execution_count": 80,
      "outputs": [
        {
          "output_type": "execute_result",
          "data": {
            "text/html": [
              "<div>\n",
              "<style scoped>\n",
              "    .dataframe tbody tr th:only-of-type {\n",
              "        vertical-align: middle;\n",
              "    }\n",
              "\n",
              "    .dataframe tbody tr th {\n",
              "        vertical-align: top;\n",
              "    }\n",
              "\n",
              "    .dataframe thead th {\n",
              "        text-align: right;\n",
              "    }\n",
              "</style>\n",
              "<table border=\"1\" class=\"dataframe\">\n",
              "  <thead>\n",
              "    <tr style=\"text-align: right;\">\n",
              "      <th></th>\n",
              "      <th>is_canceled</th>\n",
              "      <th>lead_time</th>\n",
              "      <th>arrival_date_year</th>\n",
              "      <th>arrival_date_week_number</th>\n",
              "      <th>arrival_date_day_of_month</th>\n",
              "      <th>stays_in_weekend_nights</th>\n",
              "      <th>stays_in_week_nights</th>\n",
              "      <th>adults</th>\n",
              "      <th>children</th>\n",
              "      <th>babies</th>\n",
              "      <th>meal</th>\n",
              "      <th>market_segment</th>\n",
              "      <th>distribution_channel</th>\n",
              "      <th>is_repeated_guest</th>\n",
              "      <th>previous_cancellations</th>\n",
              "      <th>previous_bookings_not_canceled</th>\n",
              "      <th>reserved_room_type</th>\n",
              "      <th>assigned_room_type</th>\n",
              "      <th>booking_changes</th>\n",
              "      <th>deposit_type</th>\n",
              "      <th>agent</th>\n",
              "      <th>company</th>\n",
              "      <th>days_in_waiting_list</th>\n",
              "      <th>customer_type</th>\n",
              "      <th>adr</th>\n",
              "      <th>required_car_parking_spaces</th>\n",
              "      <th>total_of_special_requests</th>\n",
              "      <th>reservation_status</th>\n",
              "    </tr>\n",
              "  </thead>\n",
              "  <tbody>\n",
              "    <tr>\n",
              "      <th>0</th>\n",
              "      <td>0</td>\n",
              "      <td>342</td>\n",
              "      <td>2015</td>\n",
              "      <td>27</td>\n",
              "      <td>1</td>\n",
              "      <td>0</td>\n",
              "      <td>0</td>\n",
              "      <td>2</td>\n",
              "      <td>0.0</td>\n",
              "      <td>0</td>\n",
              "      <td>0</td>\n",
              "      <td>3</td>\n",
              "      <td>1</td>\n",
              "      <td>0</td>\n",
              "      <td>0</td>\n",
              "      <td>0</td>\n",
              "      <td>2</td>\n",
              "      <td>2</td>\n",
              "      <td>3</td>\n",
              "      <td>0</td>\n",
              "      <td>16672</td>\n",
              "      <td>11265</td>\n",
              "      <td>0</td>\n",
              "      <td>2</td>\n",
              "      <td>0.0</td>\n",
              "      <td>0</td>\n",
              "      <td>0</td>\n",
              "      <td>1</td>\n",
              "    </tr>\n",
              "    <tr>\n",
              "      <th>1</th>\n",
              "      <td>0</td>\n",
              "      <td>737</td>\n",
              "      <td>2015</td>\n",
              "      <td>27</td>\n",
              "      <td>1</td>\n",
              "      <td>0</td>\n",
              "      <td>0</td>\n",
              "      <td>2</td>\n",
              "      <td>0.0</td>\n",
              "      <td>0</td>\n",
              "      <td>0</td>\n",
              "      <td>3</td>\n",
              "      <td>1</td>\n",
              "      <td>0</td>\n",
              "      <td>0</td>\n",
              "      <td>0</td>\n",
              "      <td>2</td>\n",
              "      <td>2</td>\n",
              "      <td>4</td>\n",
              "      <td>0</td>\n",
              "      <td>1126</td>\n",
              "      <td>74332</td>\n",
              "      <td>0</td>\n",
              "      <td>2</td>\n",
              "      <td>0.0</td>\n",
              "      <td>0</td>\n",
              "      <td>0</td>\n",
              "      <td>1</td>\n",
              "    </tr>\n",
              "    <tr>\n",
              "      <th>2</th>\n",
              "      <td>0</td>\n",
              "      <td>7</td>\n",
              "      <td>2015</td>\n",
              "      <td>27</td>\n",
              "      <td>1</td>\n",
              "      <td>0</td>\n",
              "      <td>1</td>\n",
              "      <td>1</td>\n",
              "      <td>0.0</td>\n",
              "      <td>0</td>\n",
              "      <td>0</td>\n",
              "      <td>3</td>\n",
              "      <td>1</td>\n",
              "      <td>0</td>\n",
              "      <td>0</td>\n",
              "      <td>0</td>\n",
              "      <td>0</td>\n",
              "      <td>2</td>\n",
              "      <td>0</td>\n",
              "      <td>0</td>\n",
              "      <td>1117</td>\n",
              "      <td>74331</td>\n",
              "      <td>0</td>\n",
              "      <td>2</td>\n",
              "      <td>75.0</td>\n",
              "      <td>0</td>\n",
              "      <td>0</td>\n",
              "      <td>1</td>\n",
              "    </tr>\n",
              "    <tr>\n",
              "      <th>3</th>\n",
              "      <td>0</td>\n",
              "      <td>13</td>\n",
              "      <td>2015</td>\n",
              "      <td>27</td>\n",
              "      <td>1</td>\n",
              "      <td>0</td>\n",
              "      <td>1</td>\n",
              "      <td>1</td>\n",
              "      <td>0.0</td>\n",
              "      <td>0</td>\n",
              "      <td>0</td>\n",
              "      <td>2</td>\n",
              "      <td>0</td>\n",
              "      <td>0</td>\n",
              "      <td>0</td>\n",
              "      <td>0</td>\n",
              "      <td>0</td>\n",
              "      <td>0</td>\n",
              "      <td>0</td>\n",
              "      <td>0</td>\n",
              "      <td>220</td>\n",
              "      <td>74330</td>\n",
              "      <td>0</td>\n",
              "      <td>2</td>\n",
              "      <td>75.0</td>\n",
              "      <td>0</td>\n",
              "      <td>0</td>\n",
              "      <td>1</td>\n",
              "    </tr>\n",
              "    <tr>\n",
              "      <th>4</th>\n",
              "      <td>0</td>\n",
              "      <td>14</td>\n",
              "      <td>2015</td>\n",
              "      <td>27</td>\n",
              "      <td>1</td>\n",
              "      <td>0</td>\n",
              "      <td>2</td>\n",
              "      <td>2</td>\n",
              "      <td>0.0</td>\n",
              "      <td>0</td>\n",
              "      <td>0</td>\n",
              "      <td>6</td>\n",
              "      <td>3</td>\n",
              "      <td>0</td>\n",
              "      <td>0</td>\n",
              "      <td>0</td>\n",
              "      <td>0</td>\n",
              "      <td>0</td>\n",
              "      <td>0</td>\n",
              "      <td>0</td>\n",
              "      <td>173</td>\n",
              "      <td>74329</td>\n",
              "      <td>0</td>\n",
              "      <td>2</td>\n",
              "      <td>98.0</td>\n",
              "      <td>0</td>\n",
              "      <td>1</td>\n",
              "      <td>1</td>\n",
              "    </tr>\n",
              "  </tbody>\n",
              "</table>\n",
              "</div>"
            ],
            "text/plain": [
              "   is_canceled  lead_time  ...  total_of_special_requests  reservation_status\n",
              "0            0        342  ...                          0                   1\n",
              "1            0        737  ...                          0                   1\n",
              "2            0          7  ...                          0                   1\n",
              "3            0         13  ...                          0                   1\n",
              "4            0         14  ...                          1                   1\n",
              "\n",
              "[5 rows x 28 columns]"
            ]
          },
          "metadata": {
            "tags": []
          },
          "execution_count": 80
        }
      ]
    },
    {
      "cell_type": "code",
      "metadata": {
        "id": "7IXBRVGJ20D4",
        "colab_type": "code",
        "outputId": "d3dc44b1-21ad-42d6-a9c0-363be80077a0",
        "colab": {
          "base_uri": "https://localhost:8080/",
          "height": 937
        }
      },
      "source": [
        "bookingcor.corr()"
      ],
      "execution_count": 81,
      "outputs": [
        {
          "output_type": "execute_result",
          "data": {
            "text/html": [
              "<div>\n",
              "<style scoped>\n",
              "    .dataframe tbody tr th:only-of-type {\n",
              "        vertical-align: middle;\n",
              "    }\n",
              "\n",
              "    .dataframe tbody tr th {\n",
              "        vertical-align: top;\n",
              "    }\n",
              "\n",
              "    .dataframe thead th {\n",
              "        text-align: right;\n",
              "    }\n",
              "</style>\n",
              "<table border=\"1\" class=\"dataframe\">\n",
              "  <thead>\n",
              "    <tr style=\"text-align: right;\">\n",
              "      <th></th>\n",
              "      <th>is_canceled</th>\n",
              "      <th>lead_time</th>\n",
              "      <th>arrival_date_year</th>\n",
              "      <th>arrival_date_week_number</th>\n",
              "      <th>arrival_date_day_of_month</th>\n",
              "      <th>stays_in_weekend_nights</th>\n",
              "      <th>stays_in_week_nights</th>\n",
              "      <th>adults</th>\n",
              "      <th>children</th>\n",
              "      <th>babies</th>\n",
              "      <th>meal</th>\n",
              "      <th>market_segment</th>\n",
              "      <th>distribution_channel</th>\n",
              "      <th>is_repeated_guest</th>\n",
              "      <th>previous_cancellations</th>\n",
              "      <th>previous_bookings_not_canceled</th>\n",
              "      <th>reserved_room_type</th>\n",
              "      <th>assigned_room_type</th>\n",
              "      <th>booking_changes</th>\n",
              "      <th>deposit_type</th>\n",
              "      <th>agent</th>\n",
              "      <th>company</th>\n",
              "      <th>days_in_waiting_list</th>\n",
              "      <th>customer_type</th>\n",
              "      <th>adr</th>\n",
              "      <th>required_car_parking_spaces</th>\n",
              "      <th>total_of_special_requests</th>\n",
              "      <th>reservation_status</th>\n",
              "    </tr>\n",
              "  </thead>\n",
              "  <tbody>\n",
              "    <tr>\n",
              "      <th>is_canceled</th>\n",
              "      <td>1.000000</td>\n",
              "      <td>0.293123</td>\n",
              "      <td>0.016660</td>\n",
              "      <td>0.008148</td>\n",
              "      <td>-0.006130</td>\n",
              "      <td>-0.001791</td>\n",
              "      <td>0.024765</td>\n",
              "      <td>0.060017</td>\n",
              "      <td>0.005036</td>\n",
              "      <td>-0.032491</td>\n",
              "      <td>-0.017678</td>\n",
              "      <td>0.059338</td>\n",
              "      <td>0.167600</td>\n",
              "      <td>-0.084793</td>\n",
              "      <td>0.110133</td>\n",
              "      <td>-0.057358</td>\n",
              "      <td>-0.061282</td>\n",
              "      <td>-0.176028</td>\n",
              "      <td>-0.144381</td>\n",
              "      <td>0.468634</td>\n",
              "      <td>-0.127883</td>\n",
              "      <td>0.097192</td>\n",
              "      <td>0.054186</td>\n",
              "      <td>-0.068140</td>\n",
              "      <td>0.047557</td>\n",
              "      <td>-0.195498</td>\n",
              "      <td>-0.234658</td>\n",
              "      <td>-0.917196</td>\n",
              "    </tr>\n",
              "    <tr>\n",
              "      <th>lead_time</th>\n",
              "      <td>0.293123</td>\n",
              "      <td>1.000000</td>\n",
              "      <td>0.040142</td>\n",
              "      <td>0.126871</td>\n",
              "      <td>0.002268</td>\n",
              "      <td>0.085671</td>\n",
              "      <td>0.165799</td>\n",
              "      <td>0.119519</td>\n",
              "      <td>-0.037613</td>\n",
              "      <td>-0.020915</td>\n",
              "      <td>0.000349</td>\n",
              "      <td>0.013797</td>\n",
              "      <td>0.220414</td>\n",
              "      <td>-0.124410</td>\n",
              "      <td>0.086042</td>\n",
              "      <td>-0.073548</td>\n",
              "      <td>-0.106089</td>\n",
              "      <td>-0.172219</td>\n",
              "      <td>0.000149</td>\n",
              "      <td>0.375667</td>\n",
              "      <td>-0.171430</td>\n",
              "      <td>0.055007</td>\n",
              "      <td>0.170084</td>\n",
              "      <td>0.073403</td>\n",
              "      <td>-0.063077</td>\n",
              "      <td>-0.116451</td>\n",
              "      <td>-0.095712</td>\n",
              "      <td>-0.302175</td>\n",
              "    </tr>\n",
              "    <tr>\n",
              "      <th>arrival_date_year</th>\n",
              "      <td>0.016660</td>\n",
              "      <td>0.040142</td>\n",
              "      <td>1.000000</td>\n",
              "      <td>-0.540561</td>\n",
              "      <td>-0.000221</td>\n",
              "      <td>0.021497</td>\n",
              "      <td>0.030883</td>\n",
              "      <td>0.029635</td>\n",
              "      <td>0.054636</td>\n",
              "      <td>-0.013192</td>\n",
              "      <td>0.065840</td>\n",
              "      <td>0.107697</td>\n",
              "      <td>0.022644</td>\n",
              "      <td>0.010341</td>\n",
              "      <td>-0.119822</td>\n",
              "      <td>0.029218</td>\n",
              "      <td>0.092809</td>\n",
              "      <td>0.036141</td>\n",
              "      <td>0.030872</td>\n",
              "      <td>-0.064714</td>\n",
              "      <td>-0.017723</td>\n",
              "      <td>-0.143973</td>\n",
              "      <td>-0.056497</td>\n",
              "      <td>-0.006149</td>\n",
              "      <td>0.197580</td>\n",
              "      <td>-0.013684</td>\n",
              "      <td>0.108531</td>\n",
              "      <td>-0.017683</td>\n",
              "    </tr>\n",
              "    <tr>\n",
              "      <th>arrival_date_week_number</th>\n",
              "      <td>0.008148</td>\n",
              "      <td>0.126871</td>\n",
              "      <td>-0.540561</td>\n",
              "      <td>1.000000</td>\n",
              "      <td>0.066809</td>\n",
              "      <td>0.018208</td>\n",
              "      <td>0.015558</td>\n",
              "      <td>0.025909</td>\n",
              "      <td>0.005515</td>\n",
              "      <td>0.010395</td>\n",
              "      <td>-0.017381</td>\n",
              "      <td>-0.000510</td>\n",
              "      <td>0.005699</td>\n",
              "      <td>-0.030131</td>\n",
              "      <td>0.035501</td>\n",
              "      <td>-0.020904</td>\n",
              "      <td>-0.007997</td>\n",
              "      <td>-0.005684</td>\n",
              "      <td>0.005508</td>\n",
              "      <td>0.003891</td>\n",
              "      <td>0.001638</td>\n",
              "      <td>0.162691</td>\n",
              "      <td>0.022933</td>\n",
              "      <td>-0.028432</td>\n",
              "      <td>0.075791</td>\n",
              "      <td>0.001920</td>\n",
              "      <td>0.026149</td>\n",
              "      <td>-0.017387</td>\n",
              "    </tr>\n",
              "    <tr>\n",
              "      <th>arrival_date_day_of_month</th>\n",
              "      <td>-0.006130</td>\n",
              "      <td>0.002268</td>\n",
              "      <td>-0.000221</td>\n",
              "      <td>0.066809</td>\n",
              "      <td>1.000000</td>\n",
              "      <td>-0.016354</td>\n",
              "      <td>-0.028174</td>\n",
              "      <td>-0.001566</td>\n",
              "      <td>0.014553</td>\n",
              "      <td>-0.000230</td>\n",
              "      <td>-0.007086</td>\n",
              "      <td>-0.004088</td>\n",
              "      <td>0.001578</td>\n",
              "      <td>-0.006145</td>\n",
              "      <td>-0.027011</td>\n",
              "      <td>-0.000300</td>\n",
              "      <td>0.016929</td>\n",
              "      <td>0.011646</td>\n",
              "      <td>0.010613</td>\n",
              "      <td>-0.001358</td>\n",
              "      <td>-0.002271</td>\n",
              "      <td>-0.003278</td>\n",
              "      <td>0.022728</td>\n",
              "      <td>0.012188</td>\n",
              "      <td>0.030245</td>\n",
              "      <td>0.008683</td>\n",
              "      <td>0.003062</td>\n",
              "      <td>0.011460</td>\n",
              "    </tr>\n",
              "    <tr>\n",
              "      <th>stays_in_weekend_nights</th>\n",
              "      <td>-0.001791</td>\n",
              "      <td>0.085671</td>\n",
              "      <td>0.021497</td>\n",
              "      <td>0.018208</td>\n",
              "      <td>-0.016354</td>\n",
              "      <td>1.000000</td>\n",
              "      <td>0.498969</td>\n",
              "      <td>0.091871</td>\n",
              "      <td>0.045794</td>\n",
              "      <td>0.018483</td>\n",
              "      <td>0.045744</td>\n",
              "      <td>0.115350</td>\n",
              "      <td>0.093097</td>\n",
              "      <td>-0.087239</td>\n",
              "      <td>-0.012775</td>\n",
              "      <td>-0.042715</td>\n",
              "      <td>0.142083</td>\n",
              "      <td>0.086643</td>\n",
              "      <td>0.063281</td>\n",
              "      <td>-0.111435</td>\n",
              "      <td>-0.110284</td>\n",
              "      <td>0.125085</td>\n",
              "      <td>-0.054151</td>\n",
              "      <td>-0.109220</td>\n",
              "      <td>0.049342</td>\n",
              "      <td>-0.018554</td>\n",
              "      <td>0.072671</td>\n",
              "      <td>0.008558</td>\n",
              "    </tr>\n",
              "    <tr>\n",
              "      <th>stays_in_week_nights</th>\n",
              "      <td>0.024765</td>\n",
              "      <td>0.165799</td>\n",
              "      <td>0.030883</td>\n",
              "      <td>0.015558</td>\n",
              "      <td>-0.028174</td>\n",
              "      <td>0.498969</td>\n",
              "      <td>1.000000</td>\n",
              "      <td>0.092976</td>\n",
              "      <td>0.044203</td>\n",
              "      <td>0.020191</td>\n",
              "      <td>0.036742</td>\n",
              "      <td>0.108569</td>\n",
              "      <td>0.087185</td>\n",
              "      <td>-0.097245</td>\n",
              "      <td>-0.013992</td>\n",
              "      <td>-0.048743</td>\n",
              "      <td>0.168616</td>\n",
              "      <td>0.100795</td>\n",
              "      <td>0.096209</td>\n",
              "      <td>-0.076788</td>\n",
              "      <td>-0.110354</td>\n",
              "      <td>0.148029</td>\n",
              "      <td>-0.002020</td>\n",
              "      <td>-0.127223</td>\n",
              "      <td>0.065237</td>\n",
              "      <td>-0.024859</td>\n",
              "      <td>0.068192</td>\n",
              "      <td>-0.021607</td>\n",
              "    </tr>\n",
              "    <tr>\n",
              "      <th>adults</th>\n",
              "      <td>0.060017</td>\n",
              "      <td>0.119519</td>\n",
              "      <td>0.029635</td>\n",
              "      <td>0.025909</td>\n",
              "      <td>-0.001566</td>\n",
              "      <td>0.091871</td>\n",
              "      <td>0.092976</td>\n",
              "      <td>1.000000</td>\n",
              "      <td>0.030440</td>\n",
              "      <td>0.018146</td>\n",
              "      <td>0.026327</td>\n",
              "      <td>0.208409</td>\n",
              "      <td>0.178978</td>\n",
              "      <td>-0.146426</td>\n",
              "      <td>-0.006738</td>\n",
              "      <td>-0.107983</td>\n",
              "      <td>0.211434</td>\n",
              "      <td>0.144779</td>\n",
              "      <td>-0.051673</td>\n",
              "      <td>-0.027644</td>\n",
              "      <td>-0.169782</td>\n",
              "      <td>0.095926</td>\n",
              "      <td>-0.008283</td>\n",
              "      <td>-0.101756</td>\n",
              "      <td>0.230641</td>\n",
              "      <td>0.014785</td>\n",
              "      <td>0.122884</td>\n",
              "      <td>-0.071802</td>\n",
              "    </tr>\n",
              "    <tr>\n",
              "      <th>children</th>\n",
              "      <td>0.005036</td>\n",
              "      <td>-0.037613</td>\n",
              "      <td>0.054636</td>\n",
              "      <td>0.005515</td>\n",
              "      <td>0.014553</td>\n",
              "      <td>0.045794</td>\n",
              "      <td>0.044203</td>\n",
              "      <td>0.030440</td>\n",
              "      <td>1.000000</td>\n",
              "      <td>0.024030</td>\n",
              "      <td>-0.049794</td>\n",
              "      <td>0.087346</td>\n",
              "      <td>0.008320</td>\n",
              "      <td>-0.032858</td>\n",
              "      <td>-0.024729</td>\n",
              "      <td>-0.021072</td>\n",
              "      <td>0.378064</td>\n",
              "      <td>0.327644</td>\n",
              "      <td>0.048952</td>\n",
              "      <td>-0.096078</td>\n",
              "      <td>-0.037628</td>\n",
              "      <td>0.043285</td>\n",
              "      <td>-0.033271</td>\n",
              "      <td>-0.053400</td>\n",
              "      <td>0.324853</td>\n",
              "      <td>0.056255</td>\n",
              "      <td>0.081736</td>\n",
              "      <td>-0.003399</td>\n",
              "    </tr>\n",
              "    <tr>\n",
              "      <th>babies</th>\n",
              "      <td>-0.032491</td>\n",
              "      <td>-0.020915</td>\n",
              "      <td>-0.013192</td>\n",
              "      <td>0.010395</td>\n",
              "      <td>-0.000230</td>\n",
              "      <td>0.018483</td>\n",
              "      <td>0.020191</td>\n",
              "      <td>0.018146</td>\n",
              "      <td>0.024030</td>\n",
              "      <td>1.000000</td>\n",
              "      <td>0.002864</td>\n",
              "      <td>-0.015457</td>\n",
              "      <td>-0.027796</td>\n",
              "      <td>-0.008943</td>\n",
              "      <td>-0.007501</td>\n",
              "      <td>-0.006550</td>\n",
              "      <td>0.038794</td>\n",
              "      <td>0.041244</td>\n",
              "      <td>0.083440</td>\n",
              "      <td>-0.030443</td>\n",
              "      <td>0.010967</td>\n",
              "      <td>0.020234</td>\n",
              "      <td>-0.010621</td>\n",
              "      <td>-0.016137</td>\n",
              "      <td>0.029186</td>\n",
              "      <td>0.037383</td>\n",
              "      <td>0.097889</td>\n",
              "      <td>0.030971</td>\n",
              "    </tr>\n",
              "    <tr>\n",
              "      <th>meal</th>\n",
              "      <td>-0.017678</td>\n",
              "      <td>0.000349</td>\n",
              "      <td>0.065840</td>\n",
              "      <td>-0.017381</td>\n",
              "      <td>-0.007086</td>\n",
              "      <td>0.045744</td>\n",
              "      <td>0.036742</td>\n",
              "      <td>0.026327</td>\n",
              "      <td>-0.049794</td>\n",
              "      <td>0.002864</td>\n",
              "      <td>1.000000</td>\n",
              "      <td>0.145132</td>\n",
              "      <td>0.116957</td>\n",
              "      <td>-0.057009</td>\n",
              "      <td>-0.003772</td>\n",
              "      <td>-0.040417</td>\n",
              "      <td>-0.120749</td>\n",
              "      <td>-0.120792</td>\n",
              "      <td>0.024650</td>\n",
              "      <td>-0.092151</td>\n",
              "      <td>-0.095428</td>\n",
              "      <td>0.036051</td>\n",
              "      <td>-0.007132</td>\n",
              "      <td>0.044658</td>\n",
              "      <td>0.059098</td>\n",
              "      <td>-0.038923</td>\n",
              "      <td>0.023136</td>\n",
              "      <td>0.015393</td>\n",
              "    </tr>\n",
              "    <tr>\n",
              "      <th>market_segment</th>\n",
              "      <td>0.059338</td>\n",
              "      <td>0.013797</td>\n",
              "      <td>0.107697</td>\n",
              "      <td>-0.000510</td>\n",
              "      <td>-0.004088</td>\n",
              "      <td>0.115350</td>\n",
              "      <td>0.108569</td>\n",
              "      <td>0.208409</td>\n",
              "      <td>0.087346</td>\n",
              "      <td>-0.015457</td>\n",
              "      <td>0.145132</td>\n",
              "      <td>1.000000</td>\n",
              "      <td>0.767751</td>\n",
              "      <td>-0.250286</td>\n",
              "      <td>-0.059645</td>\n",
              "      <td>-0.179589</td>\n",
              "      <td>0.094540</td>\n",
              "      <td>0.026377</td>\n",
              "      <td>-0.071818</td>\n",
              "      <td>-0.184847</td>\n",
              "      <td>-0.533820</td>\n",
              "      <td>0.164170</td>\n",
              "      <td>-0.041503</td>\n",
              "      <td>-0.165814</td>\n",
              "      <td>0.232763</td>\n",
              "      <td>-0.062226</td>\n",
              "      <td>0.274373</td>\n",
              "      <td>-0.061584</td>\n",
              "    </tr>\n",
              "    <tr>\n",
              "      <th>distribution_channel</th>\n",
              "      <td>0.167600</td>\n",
              "      <td>0.220414</td>\n",
              "      <td>0.022644</td>\n",
              "      <td>0.005699</td>\n",
              "      <td>0.001578</td>\n",
              "      <td>0.093097</td>\n",
              "      <td>0.087185</td>\n",
              "      <td>0.178978</td>\n",
              "      <td>0.008320</td>\n",
              "      <td>-0.027796</td>\n",
              "      <td>0.116957</td>\n",
              "      <td>0.767751</td>\n",
              "      <td>1.000000</td>\n",
              "      <td>-0.263219</td>\n",
              "      <td>-0.022483</td>\n",
              "      <td>-0.204731</td>\n",
              "      <td>-0.041720</td>\n",
              "      <td>-0.104502</td>\n",
              "      <td>-0.113601</td>\n",
              "      <td>0.092580</td>\n",
              "      <td>-0.591170</td>\n",
              "      <td>0.187863</td>\n",
              "      <td>0.048642</td>\n",
              "      <td>-0.069640</td>\n",
              "      <td>0.092396</td>\n",
              "      <td>-0.132280</td>\n",
              "      <td>0.098815</td>\n",
              "      <td>-0.171330</td>\n",
              "    </tr>\n",
              "    <tr>\n",
              "      <th>is_repeated_guest</th>\n",
              "      <td>-0.084793</td>\n",
              "      <td>-0.124410</td>\n",
              "      <td>0.010341</td>\n",
              "      <td>-0.030131</td>\n",
              "      <td>-0.006145</td>\n",
              "      <td>-0.087239</td>\n",
              "      <td>-0.097245</td>\n",
              "      <td>-0.146426</td>\n",
              "      <td>-0.032858</td>\n",
              "      <td>-0.008943</td>\n",
              "      <td>-0.057009</td>\n",
              "      <td>-0.250286</td>\n",
              "      <td>-0.263219</td>\n",
              "      <td>1.000000</td>\n",
              "      <td>0.082293</td>\n",
              "      <td>0.418056</td>\n",
              "      <td>-0.029537</td>\n",
              "      <td>0.032441</td>\n",
              "      <td>0.012092</td>\n",
              "      <td>-0.057502</td>\n",
              "      <td>0.280246</td>\n",
              "      <td>-0.140119</td>\n",
              "      <td>-0.022235</td>\n",
              "      <td>-0.017111</td>\n",
              "      <td>-0.134314</td>\n",
              "      <td>0.077090</td>\n",
              "      <td>0.013050</td>\n",
              "      <td>0.083504</td>\n",
              "    </tr>\n",
              "    <tr>\n",
              "      <th>previous_cancellations</th>\n",
              "      <td>0.110133</td>\n",
              "      <td>0.086042</td>\n",
              "      <td>-0.119822</td>\n",
              "      <td>0.035501</td>\n",
              "      <td>-0.027011</td>\n",
              "      <td>-0.012775</td>\n",
              "      <td>-0.013992</td>\n",
              "      <td>-0.006738</td>\n",
              "      <td>-0.024729</td>\n",
              "      <td>-0.007501</td>\n",
              "      <td>-0.003772</td>\n",
              "      <td>-0.059645</td>\n",
              "      <td>-0.022483</td>\n",
              "      <td>0.082293</td>\n",
              "      <td>1.000000</td>\n",
              "      <td>0.152728</td>\n",
              "      <td>-0.048809</td>\n",
              "      <td>-0.058457</td>\n",
              "      <td>-0.026993</td>\n",
              "      <td>0.139401</td>\n",
              "      <td>0.036107</td>\n",
              "      <td>-0.055573</td>\n",
              "      <td>0.005929</td>\n",
              "      <td>-0.008188</td>\n",
              "      <td>-0.065646</td>\n",
              "      <td>-0.018492</td>\n",
              "      <td>-0.048384</td>\n",
              "      <td>-0.110758</td>\n",
              "    </tr>\n",
              "    <tr>\n",
              "      <th>previous_bookings_not_canceled</th>\n",
              "      <td>-0.057358</td>\n",
              "      <td>-0.073548</td>\n",
              "      <td>0.029218</td>\n",
              "      <td>-0.020904</td>\n",
              "      <td>-0.000300</td>\n",
              "      <td>-0.042715</td>\n",
              "      <td>-0.048743</td>\n",
              "      <td>-0.107983</td>\n",
              "      <td>-0.021072</td>\n",
              "      <td>-0.006550</td>\n",
              "      <td>-0.040417</td>\n",
              "      <td>-0.179589</td>\n",
              "      <td>-0.204731</td>\n",
              "      <td>0.418056</td>\n",
              "      <td>0.152728</td>\n",
              "      <td>1.000000</td>\n",
              "      <td>-0.021771</td>\n",
              "      <td>0.003133</td>\n",
              "      <td>0.011608</td>\n",
              "      <td>-0.031475</td>\n",
              "      <td>0.166499</td>\n",
              "      <td>-0.106299</td>\n",
              "      <td>-0.009397</td>\n",
              "      <td>-0.012259</td>\n",
              "      <td>-0.072144</td>\n",
              "      <td>0.047653</td>\n",
              "      <td>0.037824</td>\n",
              "      <td>0.055051</td>\n",
              "    </tr>\n",
              "    <tr>\n",
              "      <th>reserved_room_type</th>\n",
              "      <td>-0.061282</td>\n",
              "      <td>-0.106089</td>\n",
              "      <td>0.092809</td>\n",
              "      <td>-0.007997</td>\n",
              "      <td>0.016929</td>\n",
              "      <td>0.142083</td>\n",
              "      <td>0.168616</td>\n",
              "      <td>0.211434</td>\n",
              "      <td>0.378064</td>\n",
              "      <td>0.038794</td>\n",
              "      <td>-0.120749</td>\n",
              "      <td>0.094540</td>\n",
              "      <td>-0.041720</td>\n",
              "      <td>-0.029537</td>\n",
              "      <td>-0.048809</td>\n",
              "      <td>-0.021771</td>\n",
              "      <td>1.000000</td>\n",
              "      <td>0.814005</td>\n",
              "      <td>0.045060</td>\n",
              "      <td>-0.199689</td>\n",
              "      <td>-0.020075</td>\n",
              "      <td>0.115389</td>\n",
              "      <td>-0.068821</td>\n",
              "      <td>-0.120978</td>\n",
              "      <td>0.392060</td>\n",
              "      <td>0.131583</td>\n",
              "      <td>0.137466</td>\n",
              "      <td>0.058693</td>\n",
              "    </tr>\n",
              "    <tr>\n",
              "      <th>assigned_room_type</th>\n",
              "      <td>-0.176028</td>\n",
              "      <td>-0.172219</td>\n",
              "      <td>0.036141</td>\n",
              "      <td>-0.005684</td>\n",
              "      <td>0.011646</td>\n",
              "      <td>0.086643</td>\n",
              "      <td>0.100795</td>\n",
              "      <td>0.144779</td>\n",
              "      <td>0.327644</td>\n",
              "      <td>0.041244</td>\n",
              "      <td>-0.120792</td>\n",
              "      <td>0.026377</td>\n",
              "      <td>-0.104502</td>\n",
              "      <td>0.032441</td>\n",
              "      <td>-0.058457</td>\n",
              "      <td>0.003133</td>\n",
              "      <td>0.814005</td>\n",
              "      <td>1.000000</td>\n",
              "      <td>0.096162</td>\n",
              "      <td>-0.242384</td>\n",
              "      <td>0.052649</td>\n",
              "      <td>0.096866</td>\n",
              "      <td>-0.068676</td>\n",
              "      <td>-0.084427</td>\n",
              "      <td>0.258134</td>\n",
              "      <td>0.160131</td>\n",
              "      <td>0.124683</td>\n",
              "      <td>0.172537</td>\n",
              "    </tr>\n",
              "    <tr>\n",
              "      <th>booking_changes</th>\n",
              "      <td>-0.144381</td>\n",
              "      <td>0.000149</td>\n",
              "      <td>0.030872</td>\n",
              "      <td>0.005508</td>\n",
              "      <td>0.010613</td>\n",
              "      <td>0.063281</td>\n",
              "      <td>0.096209</td>\n",
              "      <td>-0.051673</td>\n",
              "      <td>0.048952</td>\n",
              "      <td>0.083440</td>\n",
              "      <td>0.024650</td>\n",
              "      <td>-0.071818</td>\n",
              "      <td>-0.113601</td>\n",
              "      <td>0.012092</td>\n",
              "      <td>-0.026993</td>\n",
              "      <td>0.011608</td>\n",
              "      <td>0.045060</td>\n",
              "      <td>0.096162</td>\n",
              "      <td>1.000000</td>\n",
              "      <td>-0.112153</td>\n",
              "      <td>0.063937</td>\n",
              "      <td>-0.008681</td>\n",
              "      <td>-0.011634</td>\n",
              "      <td>0.092029</td>\n",
              "      <td>0.019618</td>\n",
              "      <td>0.065620</td>\n",
              "      <td>0.052833</td>\n",
              "      <td>0.140799</td>\n",
              "    </tr>\n",
              "    <tr>\n",
              "      <th>deposit_type</th>\n",
              "      <td>0.468634</td>\n",
              "      <td>0.375667</td>\n",
              "      <td>-0.064714</td>\n",
              "      <td>0.003891</td>\n",
              "      <td>-0.001358</td>\n",
              "      <td>-0.111435</td>\n",
              "      <td>-0.076788</td>\n",
              "      <td>-0.027644</td>\n",
              "      <td>-0.096078</td>\n",
              "      <td>-0.030443</td>\n",
              "      <td>-0.092151</td>\n",
              "      <td>-0.184847</td>\n",
              "      <td>0.092580</td>\n",
              "      <td>-0.057502</td>\n",
              "      <td>0.139401</td>\n",
              "      <td>-0.031475</td>\n",
              "      <td>-0.199689</td>\n",
              "      <td>-0.242384</td>\n",
              "      <td>-0.112153</td>\n",
              "      <td>1.000000</td>\n",
              "      <td>-0.003594</td>\n",
              "      <td>-0.026737</td>\n",
              "      <td>0.121017</td>\n",
              "      <td>-0.076404</td>\n",
              "      <td>-0.089838</td>\n",
              "      <td>-0.090929</td>\n",
              "      <td>-0.266672</td>\n",
              "      <td>-0.466185</td>\n",
              "    </tr>\n",
              "    <tr>\n",
              "      <th>agent</th>\n",
              "      <td>-0.127883</td>\n",
              "      <td>-0.171430</td>\n",
              "      <td>-0.017723</td>\n",
              "      <td>0.001638</td>\n",
              "      <td>-0.002271</td>\n",
              "      <td>-0.110284</td>\n",
              "      <td>-0.110354</td>\n",
              "      <td>-0.169782</td>\n",
              "      <td>-0.037628</td>\n",
              "      <td>0.010967</td>\n",
              "      <td>-0.095428</td>\n",
              "      <td>-0.533820</td>\n",
              "      <td>-0.591170</td>\n",
              "      <td>0.280246</td>\n",
              "      <td>0.036107</td>\n",
              "      <td>0.166499</td>\n",
              "      <td>-0.020075</td>\n",
              "      <td>0.052649</td>\n",
              "      <td>0.063937</td>\n",
              "      <td>-0.003594</td>\n",
              "      <td>1.000000</td>\n",
              "      <td>-0.176456</td>\n",
              "      <td>-0.039667</td>\n",
              "      <td>0.066095</td>\n",
              "      <td>-0.126407</td>\n",
              "      <td>0.113648</td>\n",
              "      <td>-0.085429</td>\n",
              "      <td>0.123264</td>\n",
              "    </tr>\n",
              "    <tr>\n",
              "      <th>company</th>\n",
              "      <td>0.097192</td>\n",
              "      <td>0.055007</td>\n",
              "      <td>-0.143973</td>\n",
              "      <td>0.162691</td>\n",
              "      <td>-0.003278</td>\n",
              "      <td>0.125085</td>\n",
              "      <td>0.148029</td>\n",
              "      <td>0.095926</td>\n",
              "      <td>0.043285</td>\n",
              "      <td>0.020234</td>\n",
              "      <td>0.036051</td>\n",
              "      <td>0.164170</td>\n",
              "      <td>0.187863</td>\n",
              "      <td>-0.140119</td>\n",
              "      <td>-0.055573</td>\n",
              "      <td>-0.106299</td>\n",
              "      <td>0.115389</td>\n",
              "      <td>0.096866</td>\n",
              "      <td>-0.008681</td>\n",
              "      <td>-0.026737</td>\n",
              "      <td>-0.176456</td>\n",
              "      <td>1.000000</td>\n",
              "      <td>0.093199</td>\n",
              "      <td>-0.014203</td>\n",
              "      <td>0.030531</td>\n",
              "      <td>0.050750</td>\n",
              "      <td>0.019058</td>\n",
              "      <td>-0.083790</td>\n",
              "    </tr>\n",
              "    <tr>\n",
              "      <th>days_in_waiting_list</th>\n",
              "      <td>0.054186</td>\n",
              "      <td>0.170084</td>\n",
              "      <td>-0.056497</td>\n",
              "      <td>0.022933</td>\n",
              "      <td>0.022728</td>\n",
              "      <td>-0.054151</td>\n",
              "      <td>-0.002020</td>\n",
              "      <td>-0.008283</td>\n",
              "      <td>-0.033271</td>\n",
              "      <td>-0.010621</td>\n",
              "      <td>-0.007132</td>\n",
              "      <td>-0.041503</td>\n",
              "      <td>0.048642</td>\n",
              "      <td>-0.022235</td>\n",
              "      <td>0.005929</td>\n",
              "      <td>-0.009397</td>\n",
              "      <td>-0.068821</td>\n",
              "      <td>-0.068676</td>\n",
              "      <td>-0.011634</td>\n",
              "      <td>0.121017</td>\n",
              "      <td>-0.039667</td>\n",
              "      <td>0.093199</td>\n",
              "      <td>1.000000</td>\n",
              "      <td>0.099121</td>\n",
              "      <td>-0.040756</td>\n",
              "      <td>-0.030600</td>\n",
              "      <td>-0.082730</td>\n",
              "      <td>-0.057927</td>\n",
              "    </tr>\n",
              "    <tr>\n",
              "      <th>customer_type</th>\n",
              "      <td>-0.068140</td>\n",
              "      <td>0.073403</td>\n",
              "      <td>-0.006149</td>\n",
              "      <td>-0.028432</td>\n",
              "      <td>0.012188</td>\n",
              "      <td>-0.109220</td>\n",
              "      <td>-0.127223</td>\n",
              "      <td>-0.101756</td>\n",
              "      <td>-0.053400</td>\n",
              "      <td>-0.016137</td>\n",
              "      <td>0.044658</td>\n",
              "      <td>-0.165814</td>\n",
              "      <td>-0.069640</td>\n",
              "      <td>-0.017111</td>\n",
              "      <td>-0.008188</td>\n",
              "      <td>-0.012259</td>\n",
              "      <td>-0.120978</td>\n",
              "      <td>-0.084427</td>\n",
              "      <td>0.092029</td>\n",
              "      <td>-0.076404</td>\n",
              "      <td>0.066095</td>\n",
              "      <td>-0.014203</td>\n",
              "      <td>0.099121</td>\n",
              "      <td>1.000000</td>\n",
              "      <td>-0.077155</td>\n",
              "      <td>-0.030060</td>\n",
              "      <td>-0.135624</td>\n",
              "      <td>0.066004</td>\n",
              "    </tr>\n",
              "    <tr>\n",
              "      <th>adr</th>\n",
              "      <td>0.047557</td>\n",
              "      <td>-0.063077</td>\n",
              "      <td>0.197580</td>\n",
              "      <td>0.075791</td>\n",
              "      <td>0.030245</td>\n",
              "      <td>0.049342</td>\n",
              "      <td>0.065237</td>\n",
              "      <td>0.230641</td>\n",
              "      <td>0.324853</td>\n",
              "      <td>0.029186</td>\n",
              "      <td>0.059098</td>\n",
              "      <td>0.232763</td>\n",
              "      <td>0.092396</td>\n",
              "      <td>-0.134314</td>\n",
              "      <td>-0.065646</td>\n",
              "      <td>-0.072144</td>\n",
              "      <td>0.392060</td>\n",
              "      <td>0.258134</td>\n",
              "      <td>0.019618</td>\n",
              "      <td>-0.089838</td>\n",
              "      <td>-0.126407</td>\n",
              "      <td>0.030531</td>\n",
              "      <td>-0.040756</td>\n",
              "      <td>-0.077155</td>\n",
              "      <td>1.000000</td>\n",
              "      <td>0.056628</td>\n",
              "      <td>0.172185</td>\n",
              "      <td>-0.050520</td>\n",
              "    </tr>\n",
              "    <tr>\n",
              "      <th>required_car_parking_spaces</th>\n",
              "      <td>-0.195498</td>\n",
              "      <td>-0.116451</td>\n",
              "      <td>-0.013684</td>\n",
              "      <td>0.001920</td>\n",
              "      <td>0.008683</td>\n",
              "      <td>-0.018554</td>\n",
              "      <td>-0.024859</td>\n",
              "      <td>0.014785</td>\n",
              "      <td>0.056255</td>\n",
              "      <td>0.037383</td>\n",
              "      <td>-0.038923</td>\n",
              "      <td>-0.062226</td>\n",
              "      <td>-0.132280</td>\n",
              "      <td>0.077090</td>\n",
              "      <td>-0.018492</td>\n",
              "      <td>0.047653</td>\n",
              "      <td>0.131583</td>\n",
              "      <td>0.160131</td>\n",
              "      <td>0.065620</td>\n",
              "      <td>-0.090929</td>\n",
              "      <td>0.113648</td>\n",
              "      <td>0.050750</td>\n",
              "      <td>-0.030600</td>\n",
              "      <td>-0.030060</td>\n",
              "      <td>0.056628</td>\n",
              "      <td>1.000000</td>\n",
              "      <td>0.082626</td>\n",
              "      <td>0.179310</td>\n",
              "    </tr>\n",
              "    <tr>\n",
              "      <th>total_of_special_requests</th>\n",
              "      <td>-0.234658</td>\n",
              "      <td>-0.095712</td>\n",
              "      <td>0.108531</td>\n",
              "      <td>0.026149</td>\n",
              "      <td>0.003062</td>\n",
              "      <td>0.072671</td>\n",
              "      <td>0.068192</td>\n",
              "      <td>0.122884</td>\n",
              "      <td>0.081736</td>\n",
              "      <td>0.097889</td>\n",
              "      <td>0.023136</td>\n",
              "      <td>0.274373</td>\n",
              "      <td>0.098815</td>\n",
              "      <td>0.013050</td>\n",
              "      <td>-0.048384</td>\n",
              "      <td>0.037824</td>\n",
              "      <td>0.137466</td>\n",
              "      <td>0.124683</td>\n",
              "      <td>0.052833</td>\n",
              "      <td>-0.266672</td>\n",
              "      <td>-0.085429</td>\n",
              "      <td>0.019058</td>\n",
              "      <td>-0.082730</td>\n",
              "      <td>-0.135624</td>\n",
              "      <td>0.172185</td>\n",
              "      <td>0.082626</td>\n",
              "      <td>1.000000</td>\n",
              "      <td>0.225674</td>\n",
              "    </tr>\n",
              "    <tr>\n",
              "      <th>reservation_status</th>\n",
              "      <td>-0.917196</td>\n",
              "      <td>-0.302175</td>\n",
              "      <td>-0.017683</td>\n",
              "      <td>-0.017387</td>\n",
              "      <td>0.011460</td>\n",
              "      <td>0.008558</td>\n",
              "      <td>-0.021607</td>\n",
              "      <td>-0.071802</td>\n",
              "      <td>-0.003399</td>\n",
              "      <td>0.030971</td>\n",
              "      <td>0.015393</td>\n",
              "      <td>-0.061584</td>\n",
              "      <td>-0.171330</td>\n",
              "      <td>0.083504</td>\n",
              "      <td>-0.110758</td>\n",
              "      <td>0.055051</td>\n",
              "      <td>0.058693</td>\n",
              "      <td>0.172537</td>\n",
              "      <td>0.140799</td>\n",
              "      <td>-0.466185</td>\n",
              "      <td>0.123264</td>\n",
              "      <td>-0.083790</td>\n",
              "      <td>-0.057927</td>\n",
              "      <td>0.066004</td>\n",
              "      <td>-0.050520</td>\n",
              "      <td>0.179310</td>\n",
              "      <td>0.225674</td>\n",
              "      <td>1.000000</td>\n",
              "    </tr>\n",
              "  </tbody>\n",
              "</table>\n",
              "</div>"
            ],
            "text/plain": [
              "                                is_canceled  ...  reservation_status\n",
              "is_canceled                        1.000000  ...           -0.917196\n",
              "lead_time                          0.293123  ...           -0.302175\n",
              "arrival_date_year                  0.016660  ...           -0.017683\n",
              "arrival_date_week_number           0.008148  ...           -0.017387\n",
              "arrival_date_day_of_month         -0.006130  ...            0.011460\n",
              "stays_in_weekend_nights           -0.001791  ...            0.008558\n",
              "stays_in_week_nights               0.024765  ...           -0.021607\n",
              "adults                             0.060017  ...           -0.071802\n",
              "children                           0.005036  ...           -0.003399\n",
              "babies                            -0.032491  ...            0.030971\n",
              "meal                              -0.017678  ...            0.015393\n",
              "market_segment                     0.059338  ...           -0.061584\n",
              "distribution_channel               0.167600  ...           -0.171330\n",
              "is_repeated_guest                 -0.084793  ...            0.083504\n",
              "previous_cancellations             0.110133  ...           -0.110758\n",
              "previous_bookings_not_canceled    -0.057358  ...            0.055051\n",
              "reserved_room_type                -0.061282  ...            0.058693\n",
              "assigned_room_type                -0.176028  ...            0.172537\n",
              "booking_changes                   -0.144381  ...            0.140799\n",
              "deposit_type                       0.468634  ...           -0.466185\n",
              "agent                             -0.127883  ...            0.123264\n",
              "company                            0.097192  ...           -0.083790\n",
              "days_in_waiting_list               0.054186  ...           -0.057927\n",
              "customer_type                     -0.068140  ...            0.066004\n",
              "adr                                0.047557  ...           -0.050520\n",
              "required_car_parking_spaces       -0.195498  ...            0.179310\n",
              "total_of_special_requests         -0.234658  ...            0.225674\n",
              "reservation_status                -0.917196  ...            1.000000\n",
              "\n",
              "[28 rows x 28 columns]"
            ]
          },
          "metadata": {
            "tags": []
          },
          "execution_count": 81
        }
      ]
    },
    {
      "cell_type": "markdown",
      "metadata": {
        "id": "UEafQ0Y8xuKA",
        "colab_type": "text"
      },
      "source": [
        "**Gráficos de las principales variables**"
      ]
    },
    {
      "cell_type": "code",
      "metadata": {
        "id": "Mqx8AhQwW6K8",
        "colab_type": "code",
        "outputId": "3546c84d-0bdb-43b7-a969-307f62c852e9",
        "colab": {
          "base_uri": "https://localhost:8080/",
          "height": 299
        }
      },
      "source": [
        "import matplotlib.pyplot as plt\n",
        "import seaborn as sns\n",
        "\n",
        "sns.set_context('talk')\n",
        "n_canceled = booking['is_canceled'].value_counts()\n",
        "ax=sns.barplot(n_canceled.index,n_canceled.values)\n",
        "ax.set_title('Cantidad de Cancelaciones')\n",
        "ax.grid(False)\n",
        "\n"
      ],
      "execution_count": 118,
      "outputs": [
        {
          "output_type": "display_data",
          "data": {
            "image/png": "[encoded data removed]",
            "text/plain": [
              "<Figure size 432x288 with 1 Axes>"
            ]
          },
          "metadata": {
            "tags": []
          }
        }
      ]
    },
    {
      "cell_type": "code",
      "metadata": {
        "id": "mPywW5btjKSI",
        "colab_type": "code",
        "outputId": "357316a1-b0ef-4406-cd6e-25aa8686c6a8",
        "colab": {
          "base_uri": "https://localhost:8080/",
          "height": 299
        }
      },
      "source": [
        "import matplotlib.pyplot as plt\n",
        "df1=booking[(booking['is_canceled'] == 0)]\n",
        "df2=booking[(booking['is_canceled'] == 1)]\n",
        "\n",
        "plt.ylim(-0.5, 1.5)\n",
        "plt.scatter(x='lead_time', y='is_canceled',data=df1, marker='v', color='r')\n",
        "plt.scatter(x='lead_time',y='is_canceled',data=df2, marker='^', color='g')\n",
        "plt.title('Lead Time vs Is Canceled')\n",
        "plt.grid(False)\n",
        "plt.show()"
      ],
      "execution_count": 83,
      "outputs": [
        {
          "output_type": "display_data",
          "data": {
            "image/png": "[encoded data removed]",
            "text/plain": [
              "<Figure size 432x288 with 1 Axes>"
            ]
          },
          "metadata": {
            "tags": [],
            "needs_background": "light"
          }
        }
      ]
    },
    {
      "cell_type": "code",
      "metadata": {
        "id": "DjoH2D6ciYzc",
        "colab_type": "code",
        "outputId": "b239e4c3-9891-49f3-af8a-62057e7abd64",
        "colab": {
          "base_uri": "https://localhost:8080/",
          "height": 299
        }
      },
      "source": [
        "import matplotlib.pyplot as plt\n",
        "df1=booking[(booking['is_canceled'] == 0)]\n",
        "df2=booking[(booking['is_canceled'] == 1)]\n",
        "\n",
        "plt.ylim(-0.5, 1.5)\n",
        "plt.scatter(x='adr', y='is_canceled',data=df1, marker='v', color='r')\n",
        "plt.scatter(x='adr',y='is_canceled',data=df2, marker='^', color='g')\n",
        "plt.title('ADR vs Is Canceled')\n",
        "plt.show()\n",
        "\n"
      ],
      "execution_count": 84,
      "outputs": [
        {
          "output_type": "display_data",
          "data": {
            "image/png": "[encoded data removed]",
            "text/plain": [
              "<Figure size 432x288 with 1 Axes>"
            ]
          },
          "metadata": {
            "tags": [],
            "needs_background": "light"
          }
        }
      ]
    },
    {
      "cell_type": "code",
      "metadata": {
        "id": "LS93E5-HswNA",
        "colab_type": "code",
        "outputId": "2f65a84d-9943-44ec-c515-6ce6e77080a8",
        "colab": {
          "base_uri": "https://localhost:8080/",
          "height": 299
        }
      },
      "source": [
        "df1=booking[(booking['is_canceled'] == 0)]\n",
        "df2=booking[(booking['is_canceled'] == 1)]\n",
        "\n",
        "plt.ylim(-0.5, 1.5)\n",
        "plt.scatter(x='previous_cancellations', y='is_canceled',data=df1, marker='v', color='r')\n",
        "plt.scatter(x='previous_cancellations',y='is_canceled',data=df2, marker='^', color='g')\n",
        "plt.title('Previous Cancellations vs Is Canceled')\n",
        "plt.show()"
      ],
      "execution_count": 85,
      "outputs": [
        {
          "output_type": "display_data",
          "data": {
            "image/png": "[encoded data removed]",
            "text/plain": [
              "<Figure size 432x288 with 1 Axes>"
            ]
          },
          "metadata": {
            "tags": [],
            "needs_background": "light"
          }
        }
      ]
    },
    {
      "cell_type": "code",
      "metadata": {
        "id": "BlJmp0JOtCz2",
        "colab_type": "code",
        "outputId": "38e25865-613d-4ef3-c7e5-bbb9e1bda8b1",
        "colab": {
          "base_uri": "https://localhost:8080/",
          "height": 299
        }
      },
      "source": [
        "df1=booking[(booking['is_canceled'] == 0)]\n",
        "df2=booking[(booking['is_canceled'] == 1)]\n",
        "\n",
        "plt.ylim(-0.5, 1.5)\n",
        "plt.scatter(x='booking_changes', y='is_canceled',data=df1, marker='v', color='r')\n",
        "plt.scatter(x='booking_changes',y='is_canceled',data=df2, marker='^', color='g')\n",
        "plt.title('Booking Changes vs Is Canceled')\n",
        "plt.show()"
      ],
      "execution_count": 86,
      "outputs": [
        {
          "output_type": "display_data",
          "data": {
            "image/png": "[encoded data removed]",
            "text/plain": [
              "<Figure size 432x288 with 1 Axes>"
            ]
          },
          "metadata": {
            "tags": [],
            "needs_background": "light"
          }
        }
      ]
    },
    {
      "cell_type": "code",
      "metadata": {
        "id": "wFlUayIQtlQa",
        "colab_type": "code",
        "outputId": "ae06a122-f379-4034-8a3b-1849e7395e51",
        "colab": {
          "base_uri": "https://localhost:8080/",
          "height": 299
        }
      },
      "source": [
        "import matplotlib.pyplot as plt\n",
        "import seaborn as sns\n",
        "\n",
        "df1=booking[(booking['is_canceled'] == 0)]\n",
        "df2=booking[(booking['is_canceled'] == 1)]\n",
        "\n",
        "plt.ylim(-0.5, 1.5)\n",
        "plt.scatter(x='required_car_parking_spaces', y='is_canceled',data=df1, marker='v', color='r')\n",
        "plt.scatter(x='required_car_parking_spaces',y='is_canceled',data=df2, marker='^', color='g')\n",
        "plt.title('Required Car Parking Spaces vs Is Canceled')\n",
        "plt.show()"
      ],
      "execution_count": 87,
      "outputs": [
        {
          "output_type": "display_data",
          "data": {
            "image/png": "[encoded data removed]",
            "text/plain": [
              "<Figure size 432x288 with 1 Axes>"
            ]
          },
          "metadata": {
            "tags": [],
            "needs_background": "light"
          }
        }
      ]
    },
    {
      "cell_type": "code",
      "metadata": {
        "id": "4_NewUPxtlUR",
        "colab_type": "code",
        "outputId": "d29f4ad9-4da9-447a-a875-60cf1ada386b",
        "colab": {
          "base_uri": "https://localhost:8080/",
          "height": 299
        }
      },
      "source": [
        "import matplotlib.pyplot as plt\n",
        "import seaborn as sns\n",
        "\n",
        "df1=booking[(booking['is_canceled'] == 0)]\n",
        "df2=booking[(booking['is_canceled'] == 1)]\n",
        "\n",
        "plt.ylim(-0.5, 1.5)\n",
        "plt.scatter(x='total_of_special_requests', y='is_canceled',data=df1, marker='v', color='r')\n",
        "plt.scatter(x='total_of_special_requests',y='is_canceled',data=df2, marker='^', color='g')\n",
        "plt.title('Total of Special Requests vs Is Canceled')\n",
        "plt.show()"
      ],
      "execution_count": 88,
      "outputs": [
        {
          "output_type": "display_data",
          "data": {
            "image/png": "[encoded data removed]",
            "text/plain": [
              "<Figure size 432x288 with 1 Axes>"
            ]
          },
          "metadata": {
            "tags": [],
            "needs_background": "light"
          }
        }
      ]
    },
    {
      "cell_type": "code",
      "metadata": {
        "id": "xdL69NmiG87X",
        "colab_type": "code",
        "outputId": "04e3892e-8633-443c-c018-b6e85e1277af",
        "colab": {
          "base_uri": "https://localhost:8080/",
          "height": 296
        }
      },
      "source": [
        "\n",
        "df3=booking[['adults','children','babies']]\n",
        "df3.plot()"
      ],
      "execution_count": 89,
      "outputs": [
        {
          "output_type": "execute_result",
          "data": {
            "text/plain": [
              "<matplotlib.axes._subplots.AxesSubplot at 0x7f9aaa6817f0>"
            ]
          },
          "metadata": {
            "tags": []
          },
          "execution_count": 89
        },
        {
          "output_type": "display_data",
          "data": {
            "image/png": "[encoded data removed]",
            "text/plain": [
              "<Figure size 432x288 with 1 Axes>"
            ]
          },
          "metadata": {
            "tags": [],
            "needs_background": "light"
          }
        }
      ]
    },
    {
      "cell_type": "code",
      "metadata": {
        "id": "vtdMfaGyQLur",
        "colab_type": "code",
        "outputId": "194e6507-0059-40b1-eb08-97d0c0425a67",
        "colab": {
          "base_uri": "https://localhost:8080/",
          "height": 296
        }
      },
      "source": [
        "\n",
        "df4=booking[['adr']]\n",
        "df4.plot()"
      ],
      "execution_count": 90,
      "outputs": [
        {
          "output_type": "execute_result",
          "data": {
            "text/plain": [
              "<matplotlib.axes._subplots.AxesSubplot at 0x7f9aaa5d53c8>"
            ]
          },
          "metadata": {
            "tags": []
          },
          "execution_count": 90
        },
        {
          "output_type": "display_data",
          "data": {
            "image/png": "[encoded data removed]",
            "text/plain": [
              "<Figure size 432x288 with 1 Axes>"
            ]
          },
          "metadata": {
            "tags": [],
            "needs_background": "light"
          }
        }
      ]
    },
    {
      "cell_type": "code",
      "metadata": {
        "id": "VVyRY2f1RHkF",
        "colab_type": "code",
        "outputId": "d3dcbf9b-7cae-436e-beb0-763428c44d37",
        "colab": {
          "base_uri": "https://localhost:8080/",
          "height": 462
        }
      },
      "source": [
        "plt.figure(figsize=(7,7))\n",
        "\n",
        "\n",
        "df5=booking['meal']\n",
        "df5.value_counts(normalize = True).plot(kind='barh', alpha=0.5, color='blue')\n",
        "plt.title('Meals')\n",
        "plt.grid (False)\n",
        "plt.show()\n",
        "\n"
      ],
      "execution_count": 119,
      "outputs": [
        {
          "output_type": "display_data",
          "data": {
            "image/png": "[encoded data removed]",
            "text/plain": [
              "<Figure size 504x504 with 1 Axes>"
            ]
          },
          "metadata": {
            "tags": []
          }
        }
      ]
    },
    {
      "cell_type": "code",
      "metadata": {
        "id": "glv6e199R_cX",
        "colab_type": "code",
        "outputId": "e4803fdb-cde1-47ac-e5e0-8d9cb4d1473e",
        "colab": {
          "base_uri": "https://localhost:8080/",
          "height": 279
        }
      },
      "source": [
        "#Relación entre is_canceled y lead_time\n",
        "for i in [0,1]:\n",
        "    booking.lead_time[booking.is_canceled == i].plot(kind='kde')\n",
        "    \n",
        "plt.legend((\"No Canceló\", \"Canceló\"))  \n",
        "plt.show()"
      ],
      "execution_count": 92,
      "outputs": [
        {
          "output_type": "display_data",
          "data": {
            "image/png": "[encoded data removed]",
            "text/plain": [
              "<Figure size 432x288 with 1 Axes>"
            ]
          },
          "metadata": {
            "tags": [],
            "needs_background": "light"
          }
        }
      ]
    },
    {
      "cell_type": "code",
      "metadata": {
        "id": "TcBX1F8Ra0M4",
        "colab_type": "code",
        "outputId": "06397f7c-b5b3-4969-d91a-09478ccacc02",
        "colab": {
          "base_uri": "https://localhost:8080/",
          "height": 318
        }
      },
      "source": [
        "# Relacion entre is_canceled y lead_time\n",
        "\n",
        "sns.boxplot(x=booking.is_canceled,y=booking.lead_time)"
      ],
      "execution_count": 95,
      "outputs": [
        {
          "output_type": "execute_result",
          "data": {
            "text/plain": [
              "<matplotlib.axes._subplots.AxesSubplot at 0x7f9aaa6e5f60>"
            ]
          },
          "metadata": {
            "tags": []
          },
          "execution_count": 95
        },
        {
          "output_type": "display_data",
          "data": {
            "image/png": "[encoded data removed]",
            "text/plain": [
              "<Figure size 432x288 with 1 Axes>"
            ]
          },
          "metadata": {
            "tags": [],
            "needs_background": "light"
          }
        }
      ]
    },
    {
      "cell_type": "code",
      "metadata": {
        "id": "MtobCzIpXJQ-",
        "colab_type": "code",
        "outputId": "cd9a2a4a-2350-4e5c-a88e-050fb55a3106",
        "colab": {
          "base_uri": "https://localhost:8080/",
          "height": 279
        }
      },
      "source": [
        "#Relación entre is_canceled y arrival_date_week_number\n",
        "for i in [0,1]:\n",
        "    booking.arrival_date_week_number[booking.is_canceled == i].plot(kind='kde')\n",
        "    \n",
        "plt.legend((\"No Canceló\", \"Canceló\"))  \n",
        "plt.show()"
      ],
      "execution_count": 93,
      "outputs": [
        {
          "output_type": "display_data",
          "data": {
            "image/png": "[encoded data removed]",
            "text/plain": [
              "<Figure size 432x288 with 1 Axes>"
            ]
          },
          "metadata": {
            "tags": [],
            "needs_background": "light"
          }
        }
      ]
    },
    {
      "cell_type": "code",
      "metadata": {
        "id": "PVnPYUI9X_Of",
        "colab_type": "code",
        "outputId": "b45fc756-8fc2-4ba9-adbf-c15864b32ca8",
        "colab": {
          "base_uri": "https://localhost:8080/",
          "height": 279
        }
      },
      "source": [
        "#Relación entre is_canceled y arrival_date_day_of_month\n",
        "for i in [0,1]:\n",
        "    booking.arrival_date_day_of_month[booking.is_canceled == i].plot(kind='kde')\n",
        "    \n",
        "plt.legend((\"No Canceló\", \"Canceló\"))  \n",
        "plt.show()"
      ],
      "execution_count": 94,
      "outputs": [
        {
          "output_type": "display_data",
          "data": {
            "image/png": "[encoded data removed]",
            "text/plain": [
              "<Figure size 432x288 with 1 Axes>"
            ]
          },
          "metadata": {
            "tags": [],
            "needs_background": "light"
          }
        }
      ]
    },
    {
      "cell_type": "code",
      "metadata": {
        "id": "BzUnqDrtXUN5",
        "colab_type": "code",
        "outputId": "6891cd2c-0458-4e22-fd03-135440e9320f",
        "colab": {
          "base_uri": "https://localhost:8080/",
          "height": 481
        }
      },
      "source": [
        "#Lead Time vs ADR en función de las Cancelaciones\n",
        "\n",
        "import numpy as np\n",
        "import matplotlib.pyplot as plt\n",
        "import pandas as pd\n",
        "import seaborn as sns\n",
        "\n",
        "plt.figure(figsize=(7,7))\n",
        "plt.grid(False)\n",
        "sns.scatterplot(x='lead_time',y='adr',hue='is_canceled',data=booking,palette={0:'black',1:'red'})"
      ],
      "execution_count": 82,
      "outputs": [
        {
          "output_type": "execute_result",
          "data": {
            "text/plain": [
              "<matplotlib.axes._subplots.AxesSubplot at 0x7f9aad0907f0>"
            ]
          },
          "metadata": {
            "tags": []
          },
          "execution_count": 82
        },
        {
          "output_type": "display_data",
          "data": {
            "image/png": "[encoded data removed]",
            "text/plain": [
              "<Figure size 504x504 with 1 Axes>"
            ]
          },
          "metadata": {
            "tags": [],
            "needs_background": "light"
          }
        }
      ]
    },
    {
      "cell_type": "code",
      "metadata": {
        "id": "Ppc-1Uu6Zruz",
        "colab_type": "code",
        "outputId": "90fe322c-dc20-4967-dd21-a205fe902299",
        "colab": {
          "base_uri": "https://localhost:8080/",
          "height": 481
        }
      },
      "source": [
        "#Lead Time vs Required Car Parking Spaces en función de las Cancelaciones\n",
        "plt.figure(figsize=(7,7))\n",
        "sns.scatterplot(x='lead_time',y='required_car_parking_spaces',hue='is_canceled',data=booking,palette={0:'black',1:'red'})"
      ],
      "execution_count": 96,
      "outputs": [
        {
          "output_type": "execute_result",
          "data": {
            "text/plain": [
              "<matplotlib.axes._subplots.AxesSubplot at 0x7f9aaa6e5710>"
            ]
          },
          "metadata": {
            "tags": []
          },
          "execution_count": 96
        },
        {
          "output_type": "display_data",
          "data": {
            "image/png": "[encoded data removed]",
            "text/plain": [
              "<Figure size 504x504 with 1 Axes>"
            ]
          },
          "metadata": {
            "tags": [],
            "needs_background": "light"
          }
        }
      ]
    },
    {
      "cell_type": "code",
      "metadata": {
        "id": "6CMOlllOZX7w",
        "colab_type": "code",
        "outputId": "86558302-f3e2-4218-8dee-7899a5058ec0",
        "colab": {
          "base_uri": "https://localhost:8080/",
          "height": 481
        }
      },
      "source": [
        "# Lead Time vs Total of Special Requests en función de las Cancelaciones\n",
        "plt.figure(figsize=(7,7))\n",
        "sns.scatterplot(x='lead_time',y='total_of_special_requests',hue='is_canceled',data=booking,palette={0:'black',1:'red'})\n"
      ],
      "execution_count": 97,
      "outputs": [
        {
          "output_type": "execute_result",
          "data": {
            "text/plain": [
              "<matplotlib.axes._subplots.AxesSubplot at 0x7f9aaa82e550>"
            ]
          },
          "metadata": {
            "tags": []
          },
          "execution_count": 97
        },
        {
          "output_type": "display_data",
          "data": {
            "image/png": "[encoded data removed]",
            "text/plain": [
              "<Figure size 504x504 with 1 Axes>"
            ]
          },
          "metadata": {
            "tags": [],
            "needs_background": "light"
          }
        }
      ]
    },
    {
      "cell_type": "code",
      "metadata": {
        "id": "ZWyom5LDZ8lv",
        "colab_type": "code",
        "outputId": "0111de2c-8a65-466c-ed6a-66ea469ffc49",
        "colab": {
          "base_uri": "https://localhost:8080/",
          "height": 481
        }
      },
      "source": [
        "# Lead Time vs Booking Changes en función de las Cancelaciones\n",
        "plt.figure(figsize=(7,7))\n",
        "sns.scatterplot(x='lead_time',y='booking_changes',hue='is_canceled',data=booking,palette={0:'black',1:'red'})"
      ],
      "execution_count": 98,
      "outputs": [
        {
          "output_type": "execute_result",
          "data": {
            "text/plain": [
              "<matplotlib.axes._subplots.AxesSubplot at 0x7f9aaa846a90>"
            ]
          },
          "metadata": {
            "tags": []
          },
          "execution_count": 98
        },
        {
          "output_type": "display_data",
          "data": {
            "image/png": "[encoded data removed]",
            "text/plain": [
              "<Figure size 504x504 with 1 Axes>"
            ]
          },
          "metadata": {
            "tags": [],
            "needs_background": "light"
          }
        }
      ]
    },
    {
      "cell_type": "code",
      "metadata": {
        "id": "JFhyJ6hDaErN",
        "colab_type": "code",
        "outputId": "4d2dbbf0-57a0-4150-ad03-c7c30e73b6e2",
        "colab": {
          "base_uri": "https://localhost:8080/",
          "height": 481
        }
      },
      "source": [
        "# Lead Time vs Previous Cancellations en función de las Cancelaciones\n",
        "plt.figure(figsize=(7,7))\n",
        "sns.scatterplot(x='lead_time',y='previous_cancellations',hue='is_canceled',data=booking,palette={0:'black',1:'red'})"
      ],
      "execution_count": 99,
      "outputs": [
        {
          "output_type": "execute_result",
          "data": {
            "text/plain": [
              "<matplotlib.axes._subplots.AxesSubplot at 0x7f9aaa54f860>"
            ]
          },
          "metadata": {
            "tags": []
          },
          "execution_count": 99
        },
        {
          "output_type": "display_data",
          "data": {
            "image/png": "[encoded data removed]",
            "text/plain": [
              "<Figure size 504x504 with 1 Axes>"
            ]
          },
          "metadata": {
            "tags": [],
            "needs_background": "light"
          }
        }
      ]
    },
    {
      "cell_type": "code",
      "metadata": {
        "id": "ZgPr9j3DcSMv",
        "colab_type": "code",
        "outputId": "14ceccb6-9aac-4b24-ebeb-2a9d00615e1f",
        "colab": {
          "base_uri": "https://localhost:8080/",
          "height": 285
        }
      },
      "source": [
        "#Reservation Status vs Is Canceled\n",
        "\n",
        "import seaborn as sns\n",
        "sns.set(style=\"whitegrid\")\n",
        "ax = sns.countplot(x='reservation_status',hue='is_canceled',data=booking)\n",
        "ax.grid(False)\n"
      ],
      "execution_count": 102,
      "outputs": [
        {
          "output_type": "display_data",
          "data": {
            "image/png": "[encoded data removed]",
            "text/plain": [
              "<Figure size 432x288 with 1 Axes>"
            ]
          },
          "metadata": {
            "tags": []
          }
        }
      ]
    },
    {
      "cell_type": "code",
      "metadata": {
        "id": "rYYifBSKqQT-",
        "colab_type": "code",
        "outputId": "d5c52373-73ad-4162-be9d-1ba85f83fff0",
        "colab": {
          "base_uri": "https://localhost:8080/",
          "height": 287
        }
      },
      "source": [
        "#Distribution Channel vs Is Canceled\n",
        "\n",
        "import seaborn as sns\n",
        "sns.set(style=\"whitegrid\")\n",
        "ax = sns.countplot(x='distribution_channel',hue='is_canceled',data=booking)\n",
        "ax.grid(False)"
      ],
      "execution_count": 103,
      "outputs": [
        {
          "output_type": "display_data",
          "data": {
            "image/png": "[encoded data removed]",
            "text/plain": [
              "<Figure size 432x288 with 1 Axes>"
            ]
          },
          "metadata": {
            "tags": []
          }
        }
      ]
    }
  ]
}